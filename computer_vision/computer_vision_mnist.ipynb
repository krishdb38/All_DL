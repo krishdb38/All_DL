{
 "cells": [
  {
   "cell_type": "code",
   "execution_count": 1,
   "id": "0bf050d6-e218-438b-8aa4-5cf3cf845860",
   "metadata": {},
   "outputs": [],
   "source": [
    "#https://colab.research.google.com/github/lmoroney/mlday-tokyo/blob/master/Lab2-Computer-Vision.ipynb"
   ]
  },
  {
   "cell_type": "code",
   "execution_count": 19,
   "id": "fb3a2fb5-205f-4f06-9369-be5aa60ab8fd",
   "metadata": {},
   "outputs": [
    {
     "name": "stdout",
     "output_type": "stream",
     "text": [
      "2.12.0-dev20221203\n"
     ]
    }
   ],
   "source": [
    "import numpy as np\n",
    "import tensorflow as tf\n",
    "print(tf.__version__)"
   ]
  },
  {
   "cell_type": "code",
   "execution_count": 3,
   "id": "85c06203-bd93-4c8b-9289-0078b56cee92",
   "metadata": {},
   "outputs": [
    {
     "data": {
      "text/plain": [
       "<module 'keras.api._v2.keras.datasets.fashion_mnist' from '/home/krish/anaconda3/envs/tf/lib/python3.9/site-packages/keras/api/_v2/keras/datasets/fashion_mnist/__init__.py'>"
      ]
     },
     "execution_count": 3,
     "metadata": {},
     "output_type": "execute_result"
    }
   ],
   "source": [
    "mnist = tf.keras.datasets.fashion_mnist\n",
    "mnist"
   ]
  },
  {
   "cell_type": "code",
   "execution_count": 4,
   "id": "f7765e08-5ee2-47e5-92b2-eef755f66240",
   "metadata": {},
   "outputs": [
    {
     "name": "stdout",
     "output_type": "stream",
     "text": [
      "Downloading data from https://storage.googleapis.com/tensorflow/tf-keras-datasets/train-labels-idx1-ubyte.gz\n",
      "29515/29515 [==============================] - 0s 0us/step\n",
      "Downloading data from https://storage.googleapis.com/tensorflow/tf-keras-datasets/train-images-idx3-ubyte.gz\n",
      "26421880/26421880 [==============================] - 0s 0us/step\n",
      "Downloading data from https://storage.googleapis.com/tensorflow/tf-keras-datasets/t10k-labels-idx1-ubyte.gz\n",
      "5148/5148 [==============================] - 0s 0us/step\n",
      "Downloading data from https://storage.googleapis.com/tensorflow/tf-keras-datasets/t10k-images-idx3-ubyte.gz\n",
      "4422102/4422102 [==============================] - 0s 0us/step\n"
     ]
    }
   ],
   "source": [
    "(training_image , training_labels), (test_images, test_labels) = mnist.load_data()"
   ]
  },
  {
   "cell_type": "code",
   "execution_count": 6,
   "id": "b01ed87f-48ae-42db-b68f-7cedf6d5df0b",
   "metadata": {},
   "outputs": [
    {
     "name": "stdout",
     "output_type": "stream",
     "text": [
      "9\n",
      "[[  0   0   0   0   0   0   0   0   0   0   0   0   0   0   0   0   0   0\n",
      "    0   0   0   0   0   0   0   0   0   0]\n",
      " [  0   0   0   0   0   0   0   0   0   0   0   0   0   0   0   0   0   0\n",
      "    0   0   0   0   0   0   0   0   0   0]\n",
      " [  0   0   0   0   0   0   0   0   0   0   0   0   0   0   0   0   0   0\n",
      "    0   0   0   0   0   0   0   0   0   0]\n",
      " [  0   0   0   0   0   0   0   0   0   0   0   0   1   0   0  13  73   0\n",
      "    0   1   4   0   0   0   0   1   1   0]\n",
      " [  0   0   0   0   0   0   0   0   0   0   0   0   3   0  36 136 127  62\n",
      "   54   0   0   0   1   3   4   0   0   3]\n",
      " [  0   0   0   0   0   0   0   0   0   0   0   0   6   0 102 204 176 134\n",
      "  144 123  23   0   0   0   0  12  10   0]\n",
      " [  0   0   0   0   0   0   0   0   0   0   0   0   0   0 155 236 207 178\n",
      "  107 156 161 109  64  23  77 130  72  15]\n",
      " [  0   0   0   0   0   0   0   0   0   0   0   1   0  69 207 223 218 216\n",
      "  216 163 127 121 122 146 141  88 172  66]\n",
      " [  0   0   0   0   0   0   0   0   0   1   1   1   0 200 232 232 233 229\n",
      "  223 223 215 213 164 127 123 196 229   0]\n",
      " [  0   0   0   0   0   0   0   0   0   0   0   0   0 183 225 216 223 228\n",
      "  235 227 224 222 224 221 223 245 173   0]\n",
      " [  0   0   0   0   0   0   0   0   0   0   0   0   0 193 228 218 213 198\n",
      "  180 212 210 211 213 223 220 243 202   0]\n",
      " [  0   0   0   0   0   0   0   0   0   1   3   0  12 219 220 212 218 192\n",
      "  169 227 208 218 224 212 226 197 209  52]\n",
      " [  0   0   0   0   0   0   0   0   0   0   6   0  99 244 222 220 218 203\n",
      "  198 221 215 213 222 220 245 119 167  56]\n",
      " [  0   0   0   0   0   0   0   0   0   4   0   0  55 236 228 230 228 240\n",
      "  232 213 218 223 234 217 217 209  92   0]\n",
      " [  0   0   1   4   6   7   2   0   0   0   0   0 237 226 217 223 222 219\n",
      "  222 221 216 223 229 215 218 255  77   0]\n",
      " [  0   3   0   0   0   0   0   0   0  62 145 204 228 207 213 221 218 208\n",
      "  211 218 224 223 219 215 224 244 159   0]\n",
      " [  0   0   0   0  18  44  82 107 189 228 220 222 217 226 200 205 211 230\n",
      "  224 234 176 188 250 248 233 238 215   0]\n",
      " [  0  57 187 208 224 221 224 208 204 214 208 209 200 159 245 193 206 223\n",
      "  255 255 221 234 221 211 220 232 246   0]\n",
      " [  3 202 228 224 221 211 211 214 205 205 205 220 240  80 150 255 229 221\n",
      "  188 154 191 210 204 209 222 228 225   0]\n",
      " [ 98 233 198 210 222 229 229 234 249 220 194 215 217 241  65  73 106 117\n",
      "  168 219 221 215 217 223 223 224 229  29]\n",
      " [ 75 204 212 204 193 205 211 225 216 185 197 206 198 213 240 195 227 245\n",
      "  239 223 218 212 209 222 220 221 230  67]\n",
      " [ 48 203 183 194 213 197 185 190 194 192 202 214 219 221 220 236 225 216\n",
      "  199 206 186 181 177 172 181 205 206 115]\n",
      " [  0 122 219 193 179 171 183 196 204 210 213 207 211 210 200 196 194 191\n",
      "  195 191 198 192 176 156 167 177 210  92]\n",
      " [  0   0  74 189 212 191 175 172 175 181 185 188 189 188 193 198 204 209\n",
      "  210 210 211 188 188 194 192 216 170   0]\n",
      " [  2   0   0   0  66 200 222 237 239 242 246 243 244 221 220 193 191 179\n",
      "  182 182 181 176 166 168  99  58   0   0]\n",
      " [  0   0   0   0   0   0   0  40  61  44  72  41  35   0   0   0   0   0\n",
      "    0   0   0   0   0   0   0   0   0   0]\n",
      " [  0   0   0   0   0   0   0   0   0   0   0   0   0   0   0   0   0   0\n",
      "    0   0   0   0   0   0   0   0   0   0]\n",
      " [  0   0   0   0   0   0   0   0   0   0   0   0   0   0   0   0   0   0\n",
      "    0   0   0   0   0   0   0   0   0   0]]\n"
     ]
    },
    {
     "data": {
      "image/png": "[encoded data removed]",
      "text/plain": [
       "<Figure size 640x480 with 1 Axes>"
      ]
     },
     "metadata": {},
     "output_type": "display_data"
    }
   ],
   "source": [
    "import matplotlib.pyplot as plt\n",
    "plt.imshow(training_image[0])\n",
    "print(training_labels[0])\n",
    "print(training_image[0])\n",
    "plt.show()"
   ]
  },
  {
   "cell_type": "code",
   "execution_count": 7,
   "id": "b7706506-e0b5-4ccc-b917-e0d528830842",
   "metadata": {},
   "outputs": [],
   "source": [
    "# Lets do Normalization\n",
    "training_image = training_image / 255\n",
    "test_images    = test_images / 255"
   ]
  },
  {
   "cell_type": "markdown",
   "id": "9b802b4d-d59c-4762-9935-4f8988a92950",
   "metadata": {},
   "source": [
    "## Design Model"
   ]
  },
  {
   "cell_type": "code",
   "execution_count": 11,
   "id": "0337b3ad-d4d8-42ce-a792-727513a9ea57",
   "metadata": {},
   "outputs": [],
   "source": [
    "model = tf.keras.models.Sequential([\n",
    "    tf.keras.layers.Flatten(),\n",
    "    tf.keras.layers.Dense(128, activation = tf.nn.relu),\n",
    "    tf.keras.layers.Dense(100, activation = tf.nn.relu),\n",
    "    tf.keras.layers.Dense(100, activation = tf.nn.relu),\n",
    "    \n",
    "    tf.keras.layers.Dense(10, activation = 'softmax')\n",
    "    \n",
    "])"
   ]
  },
  {
   "cell_type": "code",
   "execution_count": 13,
   "id": "f8a28b64-cf3e-415d-b066-13172821415a",
   "metadata": {},
   "outputs": [
    {
     "name": "stdout",
     "output_type": "stream",
     "text": [
      "Epoch 1/50\n",
      "1875/1875 [==============================] - 3s 1ms/step - loss: 0.2295 - accuracy: 0.9123\n",
      "Epoch 2/50\n",
      "1875/1875 [==============================] - 2s 1ms/step - loss: 0.2225 - accuracy: 0.9153\n",
      "Epoch 3/50\n",
      "1875/1875 [==============================] - 2s 1ms/step - loss: 0.2145 - accuracy: 0.9181\n",
      "Epoch 4/50\n",
      "1875/1875 [==============================] - 2s 1ms/step - loss: 0.2104 - accuracy: 0.9196\n",
      "Epoch 5/50\n",
      "1875/1875 [==============================] - 2s 1ms/step - loss: 0.2040 - accuracy: 0.9215\n",
      "Epoch 6/50\n",
      "1875/1875 [==============================] - 2s 1ms/step - loss: 0.1983 - accuracy: 0.9244\n",
      "Epoch 7/50\n",
      "1875/1875 [==============================] - 2s 1ms/step - loss: 0.1945 - accuracy: 0.9253\n",
      "Epoch 8/50\n",
      "1875/1875 [==============================] - 2s 1ms/step - loss: 0.1873 - accuracy: 0.9279\n",
      "Epoch 9/50\n",
      "1875/1875 [==============================] - 2s 1ms/step - loss: 0.1838 - accuracy: 0.9295\n",
      "Epoch 10/50\n",
      "1875/1875 [==============================] - 2s 1ms/step - loss: 0.1758 - accuracy: 0.9331\n",
      "Epoch 11/50\n",
      "1875/1875 [==============================] - 2s 1ms/step - loss: 0.1736 - accuracy: 0.9333\n",
      "Epoch 12/50\n",
      "1875/1875 [==============================] - 2s 1ms/step - loss: 0.1681 - accuracy: 0.9359\n",
      "Epoch 13/50\n",
      "1875/1875 [==============================] - 2s 1ms/step - loss: 0.1678 - accuracy: 0.9366\n",
      "Epoch 14/50\n",
      "1875/1875 [==============================] - 2s 1ms/step - loss: 0.1625 - accuracy: 0.9379\n",
      "Epoch 15/50\n",
      "1875/1875 [==============================] - 2s 1ms/step - loss: 0.1565 - accuracy: 0.9394\n",
      "Epoch 16/50\n",
      "1875/1875 [==============================] - 2s 1ms/step - loss: 0.1574 - accuracy: 0.9402\n",
      "Epoch 17/50\n",
      "1875/1875 [==============================] - 2s 1ms/step - loss: 0.1529 - accuracy: 0.9403\n",
      "Epoch 18/50\n",
      "1875/1875 [==============================] - 2s 1ms/step - loss: 0.1486 - accuracy: 0.9423\n",
      "Epoch 19/50\n",
      "1875/1875 [==============================] - 2s 1ms/step - loss: 0.1470 - accuracy: 0.9436\n",
      "Epoch 20/50\n",
      "1875/1875 [==============================] - 2s 1ms/step - loss: 0.1433 - accuracy: 0.9433\n",
      "Epoch 21/50\n",
      "1875/1875 [==============================] - 2s 1ms/step - loss: 0.1402 - accuracy: 0.9459\n",
      "Epoch 22/50\n",
      "1875/1875 [==============================] - 2s 1ms/step - loss: 0.1375 - accuracy: 0.9462\n",
      "Epoch 23/50\n",
      "1875/1875 [==============================] - 2s 1ms/step - loss: 0.1382 - accuracy: 0.9468\n",
      "Epoch 24/50\n",
      "1875/1875 [==============================] - 2s 1ms/step - loss: 0.1350 - accuracy: 0.9470\n",
      "Epoch 25/50\n",
      "1875/1875 [==============================] - 2s 1ms/step - loss: 0.1310 - accuracy: 0.9503\n",
      "Epoch 26/50\n",
      "1875/1875 [==============================] - 2s 1ms/step - loss: 0.1310 - accuracy: 0.9489\n",
      "Epoch 27/50\n",
      "1875/1875 [==============================] - 2s 1ms/step - loss: 0.1267 - accuracy: 0.9513\n",
      "Epoch 28/50\n",
      "1875/1875 [==============================] - 2s 1ms/step - loss: 0.1234 - accuracy: 0.9519\n",
      "Epoch 29/50\n",
      "1875/1875 [==============================] - 2s 1ms/step - loss: 0.1256 - accuracy: 0.9526\n",
      "Epoch 30/50\n",
      "1875/1875 [==============================] - 2s 1ms/step - loss: 0.1195 - accuracy: 0.9539\n",
      "Epoch 31/50\n",
      "1875/1875 [==============================] - 2s 1ms/step - loss: 0.1179 - accuracy: 0.9548\n",
      "Epoch 32/50\n",
      "1875/1875 [==============================] - 2s 1ms/step - loss: 0.1150 - accuracy: 0.9554\n",
      "Epoch 33/50\n",
      "1875/1875 [==============================] - 2s 1ms/step - loss: 0.1133 - accuracy: 0.9561\n",
      "Epoch 34/50\n",
      "1875/1875 [==============================] - 2s 1ms/step - loss: 0.1132 - accuracy: 0.9564\n",
      "Epoch 35/50\n",
      "1875/1875 [==============================] - 2s 1ms/step - loss: 0.1104 - accuracy: 0.9578\n",
      "Epoch 36/50\n",
      "1875/1875 [==============================] - 2s 1ms/step - loss: 0.1091 - accuracy: 0.9580\n",
      "Epoch 37/50\n",
      "1875/1875 [==============================] - 2s 1ms/step - loss: 0.1128 - accuracy: 0.9573\n",
      "Epoch 38/50\n",
      "1875/1875 [==============================] - 2s 1ms/step - loss: 0.1038 - accuracy: 0.9604\n",
      "Epoch 39/50\n",
      "1875/1875 [==============================] - 2s 1ms/step - loss: 0.1075 - accuracy: 0.9586\n",
      "Epoch 40/50\n",
      "1875/1875 [==============================] - 2s 1ms/step - loss: 0.1055 - accuracy: 0.9597\n",
      "Epoch 41/50\n",
      "1875/1875 [==============================] - 2s 1ms/step - loss: 0.1025 - accuracy: 0.9607\n",
      "Epoch 42/50\n",
      "1875/1875 [==============================] - 2s 1ms/step - loss: 0.1013 - accuracy: 0.9611\n",
      "Epoch 43/50\n",
      "1875/1875 [==============================] - 2s 1ms/step - loss: 0.1011 - accuracy: 0.9618\n",
      "Epoch 44/50\n",
      "1875/1875 [==============================] - 2s 1ms/step - loss: 0.0989 - accuracy: 0.9625\n",
      "Epoch 45/50\n",
      "1875/1875 [==============================] - 2s 1ms/step - loss: 0.0966 - accuracy: 0.9632\n",
      "Epoch 46/50\n",
      "1875/1875 [==============================] - 2s 1ms/step - loss: 0.0955 - accuracy: 0.9632\n",
      "Epoch 47/50\n",
      "1875/1875 [==============================] - 2s 1ms/step - loss: 0.0966 - accuracy: 0.9635\n",
      "Epoch 48/50\n",
      "1875/1875 [==============================] - 2s 1ms/step - loss: 0.0925 - accuracy: 0.9650\n",
      "Epoch 49/50\n",
      "1875/1875 [==============================] - 2s 1ms/step - loss: 0.0959 - accuracy: 0.9632\n",
      "Epoch 50/50\n",
      "1875/1875 [==============================] - 2s 1ms/step - loss: 0.0894 - accuracy: 0.9655\n"
     ]
    },
    {
     "data": {
      "text/plain": [
       "<keras.callbacks.History at 0x7f2558e443a0>"
      ]
     },
     "execution_count": 13,
     "metadata": {},
     "output_type": "execute_result"
    }
   ],
   "source": [
    "model.compile(optimizer=tf.keras.optimizers.Adam(), \n",
    "              loss = \"sparse_categorical_crossentropy\",\n",
    "              metrics = [\"accuracy\"])\n",
    "model.fit(training_image, training_labels, epochs=50)"
   ]
  },
  {
   "cell_type": "code",
   "execution_count": 14,
   "id": "31f15024-e7ac-4ba2-a3b2-4ac33a7a7920",
   "metadata": {},
   "outputs": [
    {
     "name": "stdout",
     "output_type": "stream",
     "text": [
      "313/313 [==============================] - 0s 830us/step - loss: 0.7504 - accuracy: 0.8897\n"
     ]
    },
    {
     "data": {
      "text/plain": [
       "[0.7504187822341919, 0.8896999955177307]"
      ]
     },
     "execution_count": 14,
     "metadata": {},
     "output_type": "execute_result"
    }
   ],
   "source": [
    "model.evaluate(test_images, test_labels)"
   ]
  },
  {
   "cell_type": "code",
   "execution_count": 20,
   "id": "4b65f302-e172-4a88-a723-ff8d7860f918",
   "metadata": {},
   "outputs": [
    {
     "name": "stdout",
     "output_type": "stream",
     "text": [
      "313/313 [==============================] - 0s 627us/step\n",
      "[7.8267078e-08 1.2081969e-10 4.1663950e-11 8.3297040e-09 1.0710217e-14\n",
      " 3.0418725e-05 3.8446779e-09 6.4966436e-03 5.5578953e-10 9.9347287e-01]\n",
      "9\n"
     ]
    }
   ],
   "source": [
    "classifications = model.predict(test_images)\n",
    "\n",
    "print(classifications[0])\n",
    "print(np.argmax( classifications[0]))"
   ]
  },
  {
   "cell_type": "code",
   "execution_count": 17,
   "id": "fef8175c-304c-4bca-9726-108f88d2c3df",
   "metadata": {},
   "outputs": [
    {
     "name": "stdout",
     "output_type": "stream",
     "text": [
      "9\n"
     ]
    }
   ],
   "source": [
    "print(test_labels[0])"
   ]
  },
  {
   "cell_type": "markdown",
   "id": "285595eb-f7cf-482b-ace9-4b34c9ba5a93",
   "metadata": {},
   "source": [
    "## Exercise 2"
   ]
  },
  {
   "cell_type": "code",
   "execution_count": 23,
   "id": "e5013a68-a980-4dd0-8fe1-10877ab6e491",
   "metadata": {},
   "outputs": [
    {
     "name": "stdout",
     "output_type": "stream",
     "text": [
      "2.12.0-dev20221203\n",
      "Epoch 1/10\n",
      "1875/1875 [==============================] - 2s 884us/step - loss: 0.1824\n",
      "Epoch 2/10\n",
      "1875/1875 [==============================] - 2s 895us/step - loss: 0.0747\n",
      "Epoch 3/10\n",
      "1875/1875 [==============================] - 2s 882us/step - loss: 0.0473\n",
      "Epoch 4/10\n",
      "1875/1875 [==============================] - 2s 876us/step - loss: 0.0353\n",
      "Epoch 5/10\n",
      "1875/1875 [==============================] - 2s 869us/step - loss: 0.0256\n",
      "Epoch 6/10\n",
      "1875/1875 [==============================] - 2s 864us/step - loss: 0.0222\n",
      "Epoch 7/10\n",
      "1875/1875 [==============================] - 2s 884us/step - loss: 0.0174\n",
      "Epoch 8/10\n",
      "1875/1875 [==============================] - 2s 853us/step - loss: 0.0148\n",
      "Epoch 9/10\n",
      "1875/1875 [==============================] - 2s 867us/step - loss: 0.0140\n",
      "Epoch 10/10\n",
      "1875/1875 [==============================] - 2s 854us/step - loss: 0.0112\n",
      "313/313 [==============================] - 0s 559us/step\n",
      "[2.0627050e-11 1.5692912e-12 3.1595793e-14 1.4319056e-09 9.2204481e-16\n",
      " 1.3334300e-14 3.6165431e-15 1.0000000e+00 1.0589867e-14 2.7187257e-09] 7\n",
      "7\n"
     ]
    }
   ],
   "source": [
    "import tensorflow as tf\n",
    "print(tf.__version__)\n",
    "\n",
    "mnist = tf.keras.datasets.mnist\n",
    "(training_images, training_labels) , (test_images, test_labels) = mnist.load_data()\n",
    "\n",
    "training_images = training_images /255\n",
    "test_images     = test_images     /255 \n",
    "\n",
    "model = tf.keras.models.Sequential([\n",
    "    tf.keras.layers.Flatten(),\n",
    "    tf.keras.layers.Dense(1024, activation = tf.nn.relu),\n",
    "    tf.keras.layers.Dense(10, activation= tf.nn.softmax)\n",
    "])\n",
    "model.compile(optimizer='adam', loss = 'sparse_categorical_crossentropy')\n",
    "model.fit(training_images, training_labels, epochs=10)\n",
    "classifications = model.predict(test_images)\n",
    "\n",
    "print(classifications[0], np.argmax(classifications[0]))\n",
    "print(test_labels[0])"
   ]
  },
  {
   "cell_type": "code",
   "execution_count": 24,
   "id": "b1c4375c-d366-470c-a284-3b6137de3aaf",
   "metadata": {},
   "outputs": [
    {
     "name": "stdout",
     "output_type": "stream",
     "text": [
      "2.12.0-dev20221203\n",
      "Epoch 1/5\n",
      "1875/1875 [==============================] - 2s 866us/step - loss: 0.4691\n",
      "Epoch 2/5\n",
      "1875/1875 [==============================] - 2s 885us/step - loss: 0.3615\n",
      "Epoch 3/5\n",
      "1875/1875 [==============================] - 2s 878us/step - loss: 0.3220\n",
      "Epoch 4/5\n",
      "1875/1875 [==============================] - 2s 879us/step - loss: 0.2970\n",
      "Epoch 5/5\n",
      "1875/1875 [==============================] - 2s 888us/step - loss: 0.2773\n",
      "313/313 [==============================] - 0s 660us/step - loss: 0.3381\n",
      "313/313 [==============================] - 0s 561us/step\n",
      "[1.7356645e-07 1.8677012e-08 5.5927418e-09 6.7665423e-10 6.8567760e-09\n",
      " 9.8972525e-03 1.3517259e-08 9.2173954e-03 7.9897347e-08 9.8088503e-01]\n",
      "9\n"
     ]
    }
   ],
   "source": [
    "import tensorflow as tf\n",
    "print(tf.__version__)\n",
    "\n",
    "mnist = tf.keras.datasets.fashion_mnist\n",
    "\n",
    "(training_images, training_labels) ,  (test_images, test_labels) = mnist.load_data()\n",
    "\n",
    "training_images = training_images/255.0\n",
    "test_images = test_images/255.0\n",
    "\n",
    "model = tf.keras.models.Sequential([tf.keras.layers.Flatten(),\n",
    "                                    tf.keras.layers.Dense(1024, activation=tf.nn.relu),\n",
    "                                    tf.keras.layers.Dense(10, activation=tf.nn.softmax)])\n",
    "\n",
    "model.compile(optimizer = 'adam',\n",
    "              loss = 'sparse_categorical_crossentropy')\n",
    "\n",
    "model.fit(training_images, training_labels, epochs=5)\n",
    "\n",
    "model.evaluate(test_images, test_labels)\n",
    "\n",
    "classifications = model.predict(test_images)\n",
    "\n",
    "print(classifications[0])\n",
    "print(test_labels[0])"
   ]
  },
  {
   "cell_type": "markdown",
   "id": "a8e3f5f4-2c36-4189-bcdc-ca172ed69dfc",
   "metadata": {},
   "source": [
    "## Exercise 5"
   ]
  },
  {
   "cell_type": "code",
   "execution_count": 27,
   "id": "1e94500e-d310-4e7e-8090-5e3bc655a30a",
   "metadata": {},
   "outputs": [
    {
     "name": "stdout",
     "output_type": "stream",
     "text": [
      "2.12.0-dev20221203\n",
      "Epoch 1/10\n",
      "1875/1875 [==============================] - 2s 969us/step - loss: 0.4897\n",
      "Epoch 2/10\n",
      "1875/1875 [==============================] - 2s 984us/step - loss: 0.3615\n",
      "Epoch 3/10\n",
      "1875/1875 [==============================] - 2s 977us/step - loss: 0.3248\n",
      "Epoch 4/10\n",
      "1875/1875 [==============================] - 2s 995us/step - loss: 0.3019\n",
      "Epoch 5/10\n",
      "1875/1875 [==============================] - 2s 991us/step - loss: 0.2836\n",
      "Epoch 6/10\n",
      "1875/1875 [==============================] - 2s 969us/step - loss: 0.2693\n",
      "Epoch 7/10\n",
      "1875/1875 [==============================] - 2s 973us/step - loss: 0.2589\n",
      "Epoch 8/10\n",
      "1875/1875 [==============================] - 2s 962us/step - loss: 0.2466\n",
      "Epoch 9/10\n",
      "1875/1875 [==============================] - 2s 973us/step - loss: 0.2354\n",
      "Epoch 10/10\n",
      "1875/1875 [==============================] - 2s 978us/step - loss: 0.2275\n",
      "313/313 [==============================] - 0s 684us/step - loss: 0.3335\n",
      "313/313 [==============================] - 0s 581us/step\n",
      "[9.9389772e-06 5.1682115e-08 1.2462032e-06 1.8019460e-08 5.2507932e-07\n",
      " 9.2214607e-03 4.3572741e-06 2.2961192e-02 1.1836479e-06 9.6780002e-01]\n",
      "9\n"
     ]
    }
   ],
   "source": [
    "import tensorflow as tf\n",
    "print(tf.__version__)\n",
    "\n",
    "mnist = tf.keras.datasets.fashion_mnist\n",
    "\n",
    "(training_images, training_labels) ,  (test_images, test_labels) = mnist.load_data()\n",
    "\n",
    "training_images = training_images/255.0\n",
    "test_images = test_images/255.0\n",
    "\n",
    "model = tf.keras.models.Sequential([tf.keras.layers.Flatten(),\n",
    "                                    tf.keras.layers.Dense(100, activation=tf.nn.relu),\n",
    "                                    tf.keras.layers.Dense(256, activation=tf.nn.relu),\n",
    "                                    tf.keras.layers.Dense(10, activation=tf.nn.softmax)])\n",
    "\n",
    "model.compile(optimizer = 'adam',\n",
    "              loss = 'sparse_categorical_crossentropy')\n",
    "\n",
    "model.fit(training_images, training_labels, epochs=10,verbose=1)\n",
    "\n",
    "model.evaluate(test_images, test_labels)\n",
    "\n",
    "classifications = model.predict(test_images)\n",
    "\n",
    "print(classifications[0])\n",
    "print(test_labels[0])"
   ]
  },
  {
   "cell_type": "markdown",
   "id": "c367786c-83f8-4c57-b8ac-ffb9fb05a0ab",
   "metadata": {},
   "source": [
    "### Exercise 7 Normalization"
   ]
  },
  {
   "cell_type": "code",
   "execution_count": 29,
   "id": "8ca2d80b-610f-44a7-9a1c-e8a6b86b7086",
   "metadata": {},
   "outputs": [
    {
     "name": "stdout",
     "output_type": "stream",
     "text": [
      "2.12.0-dev20221203\n",
      "Epoch 1/5\n",
      "1875/1875 [==============================] - 2s 847us/step - loss: 4.3133\n",
      "Epoch 2/5\n",
      "1875/1875 [==============================] - 2s 826us/step - loss: 0.5394\n",
      "Epoch 3/5\n",
      "1875/1875 [==============================] - 2s 820us/step - loss: 0.5052\n",
      "Epoch 4/5\n",
      "1875/1875 [==============================] - 2s 838us/step - loss: 0.4898\n",
      "Epoch 5/5\n",
      "1875/1875 [==============================] - 2s 828us/step - loss: 0.4789\n",
      "313/313 [==============================] - 0s 651us/step - loss: 0.5628\n",
      "313/313 [==============================] - 0s 508us/step\n",
      "[1.4896665e-16 5.7707929e-13 1.9497612e-29 7.2694282e-15 7.8201182e-28\n",
      " 5.5673480e-02 3.5736449e-17 8.0487721e-02 1.8656191e-08 8.6383879e-01]\n",
      "9\n"
     ]
    }
   ],
   "source": [
    "import tensorflow as tf\n",
    "print(tf.__version__)\n",
    "mnist = tf.keras.datasets.fashion_mnist\n",
    "(training_images, training_labels), (test_images, test_labels) = mnist.load_data()\n",
    "# To experiment with removing normalization, comment out the following 2 lines\n",
    "#training_images=training_images/255.0\n",
    "#test_images=test_images/255.0\n",
    "model = tf.keras.models.Sequential([\n",
    "  tf.keras.layers.Flatten(),\n",
    "  tf.keras.layers.Dense(512, activation=tf.nn.relu),\n",
    "  tf.keras.layers.Dense(10, activation=tf.nn.softmax)\n",
    "])\n",
    "model.compile(optimizer='adam', loss='sparse_categorical_crossentropy')\n",
    "model.fit(training_images, training_labels, epochs=5)\n",
    "model.evaluate(test_images, test_labels)\n",
    "classifications = model.predict(test_images)\n",
    "print(classifications[0])\n",
    "print(test_labels[0])"
   ]
  },
  {
   "cell_type": "markdown",
   "id": "256113b5-5874-4dad-91f8-1c2ac73f354e",
   "metadata": {},
   "source": [
    "## Exercise 8 Call Back"
   ]
  },
  {
   "cell_type": "code",
   "execution_count": 34,
   "id": "a677538f-701d-40f7-98b6-ddf4868ef9fc",
   "metadata": {},
   "outputs": [],
   "source": [
    "class myCallback(tf.keras.callbacks.Callback):\n",
    "    def on_epoch_end(self, epoch, logs={}):\n",
    "        if(logs.get('accuracy')>0.9):\n",
    "            print(\"\\nReached 90% accuracy so cancelling training!\")\n",
    "            self.model.stop_training = True"
   ]
  },
  {
   "cell_type": "code",
   "execution_count": 35,
   "id": "0e30d75d-1f9d-48df-8b97-e9af754f9380",
   "metadata": {},
   "outputs": [
    {
     "name": "stdout",
     "output_type": "stream",
     "text": [
      "Epoch 1/5\n",
      "1875/1875 [==============================] - 2s 950us/step - loss: 0.4786 - accuracy: 0.8282\n",
      "Epoch 2/5\n",
      "1875/1875 [==============================] - 2s 959us/step - loss: 0.3615 - accuracy: 0.8683\n",
      "Epoch 3/5\n",
      "1875/1875 [==============================] - 2s 935us/step - loss: 0.3219 - accuracy: 0.8811\n",
      "Epoch 4/5\n",
      "1875/1875 [==============================] - 2s 963us/step - loss: 0.2974 - accuracy: 0.8888\n",
      "Epoch 5/5\n",
      "1875/1875 [==============================] - 2s 945us/step - loss: 0.2810 - accuracy: 0.8951\n"
     ]
    },
    {
     "data": {
      "text/plain": [
       "<keras.callbacks.History at 0x7f255ab55d30>"
      ]
     },
     "execution_count": 35,
     "metadata": {},
     "output_type": "execute_result"
    }
   ],
   "source": [
    "callbacks = myCallback()\n",
    "mnist = tf.keras.datasets.fashion_mnist\n",
    "(training_images, training_labels), (test_images, test_labels) = mnist.load_data()\n",
    "training_images=training_images/255.0\n",
    "test_images=test_images/255.0\n",
    "model = tf.keras.models.Sequential([\n",
    "  tf.keras.layers.Flatten(),\n",
    "  tf.keras.layers.Dense(512, activation=tf.nn.relu),\n",
    "  tf.keras.layers.Dense(10, activation=tf.nn.softmax)\n",
    "])\n",
    "model.compile(optimizer='adam', loss='sparse_categorical_crossentropy', metrics=['accuracy'])\n",
    "model.fit(training_images, training_labels, epochs=5, callbacks=[callbacks])"
   ]
  }
 ],
 "metadata": {
  "kernelspec": {
   "display_name": "Python 3 (ipykernel)",
   "language": "python",
   "name": "python3"
  },
  "language_info": {
   "codemirror_mode": {
    "name": "ipython",
    "version": 3
   },
   "file_extension": ".py",
   "mimetype": "text/x-python",
   "name": "python",
   "nbconvert_exporter": "python",
   "pygments_lexer": "ipython3",
   "version": "3.9.15"
  }
 },
 "nbformat": 4,
 "nbformat_minor": 5
}
