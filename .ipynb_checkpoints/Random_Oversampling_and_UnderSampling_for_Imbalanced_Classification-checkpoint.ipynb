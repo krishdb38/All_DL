{
 "cells": [
  {
   "cell_type": "code",
   "execution_count": 1,
   "id": "1304c981",
   "metadata": {},
   "outputs": [],
   "source": [
    "import imblearn"
   ]
  },
  {
   "cell_type": "code",
   "execution_count": 2,
   "id": "84cb0855",
   "metadata": {},
   "outputs": [
    {
     "data": {
      "text/plain": [
       "'0.9.0'"
      ]
     },
     "execution_count": 2,
     "metadata": {},
     "output_type": "execute_result"
    }
   ],
   "source": [
    "imblearn.__version__"
   ]
  },
  {
   "cell_type": "code",
   "execution_count": 4,
   "id": "72f5d2ba",
   "metadata": {},
   "outputs": [],
   "source": [
    "# https://machinelearningmastery.com/random-oversampling-and-undersampling-for-imbalanced-classification/"
   ]
  },
  {
   "cell_type": "markdown",
   "id": "817b59dc",
   "metadata": {},
   "source": [
    "## Random Oversampling Imbalanced Data Sets"
   ]
  },
  {
   "cell_type": "code",
   "execution_count": 3,
   "id": "c12cb1e1",
   "metadata": {},
   "outputs": [
    {
     "name": "stdout",
     "output_type": "stream",
     "text": [
      "Counter({0: 9900, 1: 100})\n"
     ]
    }
   ],
   "source": [
    "from collections import Counter\n",
    "from sklearn.datasets import make_classification\n",
    "from imblearn.over_sampling import RandomOverSampler\n",
    "\n",
    "# Define Data set\n",
    "x,y = make_classification(n_samples=10000, weights=[0.99], flip_y=0)\n",
    "\n",
    "print(Counter(y))"
   ]
  },
  {
   "cell_type": "code",
   "execution_count": 6,
   "id": "e9c65a74",
   "metadata": {},
   "outputs": [
    {
     "data": {
      "text/plain": [
       "Counter({1: 2, 2: 1, 3: 1, 4: 1, 5: 2, 6: 9, 66: 1})"
      ]
     },
     "execution_count": 6,
     "metadata": {},
     "output_type": "execute_result"
    }
   ],
   "source": [
    "Counter([1,2,3,1,4,5,5,6,6,6,6,6,6,66,6,6,6])"
   ]
  },
  {
   "cell_type": "code",
   "execution_count": 9,
   "id": "95cdc80f",
   "metadata": {},
   "outputs": [
    {
     "name": "stdout",
     "output_type": "stream",
     "text": [
      "Counter({0: 9900, 1: 9900})\n"
     ]
    }
   ],
   "source": [
    "# Define oversampling Strategy\n",
    "oversample = RandomOverSampler(sampling_strategy= \"minority\")\n",
    "\n",
    "# Fit and apply the transform\n",
    "x_over , y_over = oversample.fit_resample(x,y)\n",
    "print(Counter(y_over))"
   ]
  },
  {
   "cell_type": "markdown",
   "id": "58a4a50a",
   "metadata": {},
   "source": [
    "## We Increased the Sample "
   ]
  },
  {
   "cell_type": "code",
   "execution_count": 12,
   "id": "5c26d3b4",
   "metadata": {},
   "outputs": [
    {
     "name": "stdout",
     "output_type": "stream",
     "text": [
      "0.9625\n"
     ]
    }
   ],
   "source": [
    "# Example of evaluating a decision tree with random oversampling\n",
    "from numpy import mean\n",
    "from sklearn.datasets import make_classification\n",
    "from sklearn.model_selection import cross_val_score, RepeatedStratifiedKFold\n",
    "from sklearn.tree import DecisionTreeClassifier\n",
    "from imblearn.pipeline import Pipeline\n",
    "from imblearn.over_sampling import RandomOverSampler\n",
    "\n",
    "# Define the data sets\n",
    "x,y = make_classification(n_samples=10000, weights=[0.9], flip_y=0)\n",
    "\n",
    "# Define the Pipe line\n",
    "steps = [('over', RandomOverSampler()), ('model', DecisionTreeClassifier())]\n",
    "pipeline = Pipeline(steps=steps)\n",
    "\n",
    "# Evaluate the Pipeline\n",
    "cv = RepeatedStratifiedKFold(n_splits=10, n_repeats=3, random_state=1)\n",
    "scores = cross_val_score(pipeline, x,y,scoring=\"f1_micro\", cv = cv, n_jobs=-1,)\n",
    "score = mean(scores)\n",
    "print(score)"
   ]
  },
  {
   "cell_type": "markdown",
   "id": "9b7008c9",
   "metadata": {},
   "source": [
    "## Random Undersampling Imabalanced Datasets"
   ]
  },
  {
   "cell_type": "code",
   "execution_count": 13,
   "id": "f5213448",
   "metadata": {},
   "outputs": [
    {
     "name": "stdout",
     "output_type": "stream",
     "text": [
      "F1 Score : 0.958\n"
     ]
    }
   ],
   "source": [
    "from imblearn.under_sampling import RandomUnderSampler\n",
    "\n",
    "# Define Data Sets\n",
    "x,y = make_classification(n_samples=10000, weights=[0.99], flip_y=0)\n",
    "\n",
    "# Define the PipeLine\n",
    "steps = [(\"under\", RandomUnderSampler()), ('model', DecisionTreeClassifier())]\n",
    "pipeline = Pipeline(steps = steps)\n",
    "\n",
    "# Evaluate the Model\n",
    "cv = RepeatedStratifiedKFold(n_splits=10, n_repeats=3, random_state=1)\n",
    "scores = cross_val_score(pipeline, x,y, scoring='f1_micro', cv = cv, n_jobs=-1)\n",
    "\n",
    "score = mean(scores)\n",
    "print(\"F1 Score : %.3f\" %score)"
   ]
  },
  {
   "cell_type": "code",
   "execution_count": 14,
   "id": "d0dae335",
   "metadata": {},
   "outputs": [
    {
     "data": {
      "text/plain": [
       "Counter({0: 9900, 1: 100})"
      ]
     },
     "execution_count": 14,
     "metadata": {},
     "output_type": "execute_result"
    }
   ],
   "source": [
    "Counter(y)"
   ]
  },
  {
   "cell_type": "markdown",
   "id": "45cb41b2",
   "metadata": {},
   "source": [
    "## Combining Over Sampling & Under Sampling"
   ]
  },
  {
   "cell_type": "code",
   "execution_count": 15,
   "id": "a66ec6ea",
   "metadata": {},
   "outputs": [
    {
     "name": "stdout",
     "output_type": "stream",
     "text": [
      "F1 Score : 0.977\n"
     ]
    }
   ],
   "source": [
    "# Example of evaluating  a model with random oversampling and undersampling\n",
    "from numpy import mean\n",
    "from sklearn.datasets import make_classification\n",
    "from sklearn.model_selection import cross_val_score\n",
    "from sklearn.model_selection import RepeatedStratifiedKFold\n",
    "from sklearn.tree import DecisionTreeClassifier\n",
    "from imblearn.over_sampling import RandomOverSampler\n",
    "from imblearn.under_sampling import RandomUnderSampler\n",
    "\n",
    "## Define data sets\n",
    "x,y = make_classification(n_samples=10000, weights=[0.99], flip_y=0)\n",
    "\n",
    "## Define Pipe Line\n",
    "over = RandomOverSampler(sampling_strategy=0.1)\n",
    "under = RandomUnderSampler(sampling_strategy=0.5)\n",
    "\n",
    "steps = [('o', over), ('u', under), ('m', DecisionTreeClassifier())]\n",
    "pipeline = Pipeline(steps=steps)\n",
    "\n",
    "# Evaluate the Pipe Line\n",
    "cv = RepeatedStratifiedKFold(n_splits=10, n_repeats=3, random_state=1)\n",
    "scores = cross_val_score(pipeline, x, y, scoring='f1_micro', cv = cv, n_jobs=-1)\n",
    "\n",
    "score = mean(scores)\n",
    "\n",
    "print(\"F1 Score : %.3f\" % score)"
   ]
  },
  {
   "cell_type": "code",
   "execution_count": null,
   "id": "29a5e6f0",
   "metadata": {},
   "outputs": [],
   "source": []
  },
  {
   "cell_type": "code",
   "execution_count": null,
   "id": "bea3b327",
   "metadata": {},
   "outputs": [],
   "source": []
  },
  {
   "cell_type": "code",
   "execution_count": null,
   "id": "f80f99e7",
   "metadata": {},
   "outputs": [],
   "source": []
  }
 ],
 "metadata": {
  "hide_input": false,
  "kernelspec": {
   "display_name": "Python 3 (ipykernel)",
   "language": "python",
   "name": "python3"
  },
  "language_info": {
   "codemirror_mode": {
    "name": "ipython",
    "version": 3
   },
   "file_extension": ".py",
   "mimetype": "text/x-python",
   "name": "python",
   "nbconvert_exporter": "python",
   "pygments_lexer": "ipython3",
   "version": "3.9.7"
  },
  "varInspector": {
   "cols": {
    "lenName": 16,
    "lenType": 16,
    "lenVar": 40
   },
   "kernels_config": {
    "python": {
     "delete_cmd_postfix": "",
     "delete_cmd_prefix": "del ",
     "library": "var_list.py",
     "varRefreshCmd": "print(var_dic_list())"
    },
    "r": {
     "delete_cmd_postfix": ") ",
     "delete_cmd_prefix": "rm(",
     "library": "var_list.r",
     "varRefreshCmd": "cat(var_dic_list()) "
    }
   },
   "types_to_exclude": [
    "module",
    "function",
    "builtin_function_or_method",
    "instance",
    "_Feature"
   ],
   "window_display": false
  }
 },
 "nbformat": 4,
 "nbformat_minor": 5
}
