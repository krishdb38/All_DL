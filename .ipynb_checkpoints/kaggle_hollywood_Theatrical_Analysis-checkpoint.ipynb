{
 "cells": [
  {
   "cell_type": "code",
   "execution_count": null,
   "id": "6e8938b7",
   "metadata": {},
   "outputs": [],
   "source": [
    "# https://www.kaggle.com/miteshsoni/in-depth-eda-hollywood-theatrical-analysis/notebook\n",
    "# MITESH SONI"
   ]
  },
  {
   "cell_type": "code",
   "execution_count": 1,
   "id": "f0d1da33",
   "metadata": {},
   "outputs": [],
   "source": [
    "import pandas as pd\n",
    "import numpy as np\n",
    "import plotly.express as px\n",
    "import matplotlib.pyplot as plt\n",
    "from collections import Counter"
   ]
  },
  {
   "cell_type": "code",
   "execution_count": 41,
   "id": "be30bcf8",
   "metadata": {},
   "outputs": [
    {
     "data": {
      "text/html": [
       "<div>\n",
       "<style scoped>\n",
       "    .dataframe tbody tr th:only-of-type {\n",
       "        vertical-align: middle;\n",
       "    }\n",
       "\n",
       "    .dataframe tbody tr th {\n",
       "        vertical-align: top;\n",
       "    }\n",
       "\n",
       "    .dataframe thead th {\n",
       "        text-align: right;\n",
       "    }\n",
       "</style>\n",
       "<table border=\"1\" class=\"dataframe\">\n",
       "  <thead>\n",
       "    <tr style=\"text-align: right;\">\n",
       "      <th></th>\n",
       "      <th>YEAR</th>\n",
       "      <th>TICKETS SOLD</th>\n",
       "      <th>TOTAL BOX OFFICE</th>\n",
       "      <th>TOTAL INFLATION ADJUSTED BOX OFFICE</th>\n",
       "      <th>AVERAGE TICKET PRICE</th>\n",
       "      <th>Unnamed: 5</th>\n",
       "    </tr>\n",
       "  </thead>\n",
       "  <tbody>\n",
       "    <tr>\n",
       "      <th>0</th>\n",
       "      <td>2021</td>\n",
       "      <td>42,37,74,881</td>\n",
       "      <td>$3,881,777,912</td>\n",
       "      <td>$3,881,777,912</td>\n",
       "      <td>$9.16</td>\n",
       "      <td>NaN</td>\n",
       "    </tr>\n",
       "    <tr>\n",
       "      <th>1</th>\n",
       "      <td>2020</td>\n",
       "      <td>22,36,38,958</td>\n",
       "      <td>$2,048,534,616</td>\n",
       "      <td>$2,048,534,616</td>\n",
       "      <td>$9.16</td>\n",
       "      <td>NaN</td>\n",
       "    </tr>\n",
       "    <tr>\n",
       "      <th>2</th>\n",
       "      <td>2019</td>\n",
       "      <td>1,22,85,41,629</td>\n",
       "      <td>$11,253,443,955</td>\n",
       "      <td>$11,253,444,050</td>\n",
       "      <td>$9.16</td>\n",
       "      <td>NaN</td>\n",
       "    </tr>\n",
       "    <tr>\n",
       "      <th>3</th>\n",
       "      <td>2018</td>\n",
       "      <td>1,31,15,36,128</td>\n",
       "      <td>$11,948,096,650</td>\n",
       "      <td>$12,013,670,952</td>\n",
       "      <td>$9.11</td>\n",
       "      <td>NaN</td>\n",
       "    </tr>\n",
       "    <tr>\n",
       "      <th>4</th>\n",
       "      <td>2017</td>\n",
       "      <td>1,22,56,39,761</td>\n",
       "      <td>$10,993,991,460</td>\n",
       "      <td>$11,226,860,216</td>\n",
       "      <td>$8.97</td>\n",
       "      <td>NaN</td>\n",
       "    </tr>\n",
       "  </tbody>\n",
       "</table>\n",
       "</div>"
      ],
      "text/plain": [
       "   YEAR    TICKETS SOLD TOTAL BOX OFFICE TOTAL INFLATION ADJUSTED BOX OFFICE  \\\n",
       "0  2021    42,37,74,881   $3,881,777,912                      $3,881,777,912   \n",
       "1  2020    22,36,38,958   $2,048,534,616                      $2,048,534,616   \n",
       "2  2019  1,22,85,41,629  $11,253,443,955                     $11,253,444,050   \n",
       "3  2018  1,31,15,36,128  $11,948,096,650                     $12,013,670,952   \n",
       "4  2017  1,22,56,39,761  $10,993,991,460                     $11,226,860,216   \n",
       "\n",
       "  AVERAGE TICKET PRICE  Unnamed: 5  \n",
       "0                $9.16         NaN  \n",
       "1                $9.16         NaN  \n",
       "2                $9.16         NaN  \n",
       "3                $9.11         NaN  \n",
       "4                $8.97         NaN  "
      ]
     },
     "execution_count": 41,
     "metadata": {},
     "output_type": "execute_result"
    }
   ],
   "source": [
    "df = pd.read_csv(\"datas/AnnualTicketSales.csv\")\n",
    "df.head()"
   ]
  },
  {
   "cell_type": "code",
   "execution_count": 42,
   "id": "c5cd4d77",
   "metadata": {},
   "outputs": [],
   "source": [
    "# remove Unnamed:5\n",
    "df.drop(columns=\"Unnamed: 5\", inplace=True)"
   ]
  },
  {
   "cell_type": "code",
   "execution_count": 43,
   "id": "06b5343b",
   "metadata": {},
   "outputs": [
    {
     "data": {
      "text/html": [
       "<div>\n",
       "<style scoped>\n",
       "    .dataframe tbody tr th:only-of-type {\n",
       "        vertical-align: middle;\n",
       "    }\n",
       "\n",
       "    .dataframe tbody tr th {\n",
       "        vertical-align: top;\n",
       "    }\n",
       "\n",
       "    .dataframe thead th {\n",
       "        text-align: right;\n",
       "    }\n",
       "</style>\n",
       "<table border=\"1\" class=\"dataframe\">\n",
       "  <thead>\n",
       "    <tr style=\"text-align: right;\">\n",
       "      <th></th>\n",
       "      <th>YEAR</th>\n",
       "      <th>TICKETS SOLD</th>\n",
       "      <th>TOTAL BOX OFFICE</th>\n",
       "      <th>TOTAL INFLATION ADJUSTED BOX OFFICE</th>\n",
       "      <th>AVERAGE TICKET PRICE</th>\n",
       "    </tr>\n",
       "  </thead>\n",
       "  <tbody>\n",
       "    <tr>\n",
       "      <th>0</th>\n",
       "      <td>2021</td>\n",
       "      <td>42,37,74,881</td>\n",
       "      <td>$3,881,777,912</td>\n",
       "      <td>$3,881,777,912</td>\n",
       "      <td>$9.16</td>\n",
       "    </tr>\n",
       "    <tr>\n",
       "      <th>1</th>\n",
       "      <td>2020</td>\n",
       "      <td>22,36,38,958</td>\n",
       "      <td>$2,048,534,616</td>\n",
       "      <td>$2,048,534,616</td>\n",
       "      <td>$9.16</td>\n",
       "    </tr>\n",
       "  </tbody>\n",
       "</table>\n",
       "</div>"
      ],
      "text/plain": [
       "   YEAR  TICKETS SOLD TOTAL BOX OFFICE TOTAL INFLATION ADJUSTED BOX OFFICE  \\\n",
       "0  2021  42,37,74,881   $3,881,777,912                      $3,881,777,912   \n",
       "1  2020  22,36,38,958   $2,048,534,616                      $2,048,534,616   \n",
       "\n",
       "  AVERAGE TICKET PRICE  \n",
       "0                $9.16  \n",
       "1                $9.16  "
      ]
     },
     "execution_count": 43,
     "metadata": {},
     "output_type": "execute_result"
    }
   ],
   "source": [
    "df.head(2)"
   ]
  },
  {
   "cell_type": "code",
   "execution_count": 44,
   "id": "b48cecf3",
   "metadata": {},
   "outputs": [],
   "source": [
    "j = []\n",
    "for i in df[\"TICKETS SOLD\"]:\n",
    "        j.append(i.replace(\",\",''))"
   ]
  },
  {
   "cell_type": "code",
   "execution_count": 46,
   "id": "12ea0e4f",
   "metadata": {},
   "outputs": [
    {
     "data": {
      "text/plain": [
       "['423774881', '223638958', '1228541629', '1311536128', '1225639761']"
      ]
     },
     "execution_count": 46,
     "metadata": {},
     "output_type": "execute_result"
    }
   ],
   "source": [
    "j[:5]"
   ]
  },
  {
   "cell_type": "code",
   "execution_count": 47,
   "id": "490c4024",
   "metadata": {},
   "outputs": [],
   "source": [
    "# replace the Column\n",
    "df[\"Tickets_sold\"] = j\n"
   ]
  },
  {
   "cell_type": "code",
   "execution_count": 48,
   "id": "a4e717f4",
   "metadata": {},
   "outputs": [],
   "source": [
    "df[\"Tickets_sold\"] = df[\"Tickets_sold\"].astype(float)"
   ]
  },
  {
   "cell_type": "code",
   "execution_count": 33,
   "id": "4bb1640c",
   "metadata": {},
   "outputs": [],
   "source": [
    "k =[]\n",
    "# do all in once\n",
    "for i in df.columns:\n",
    "    if i not in [\"YEAR\", \"TICKETS SOLD\", \"Tickets_sold\"]:\n",
    "        for j in df[i]:\n",
    "            k.append(j[1:].replace(\",\", \"\"))\n",
    "        df[i] = k\n",
    "    k.clear() # k = [] # restore"
   ]
  },
  {
   "cell_type": "code",
   "execution_count": 34,
   "id": "d03e1bd5",
   "metadata": {},
   "outputs": [
    {
     "data": {
      "text/html": [
       "<div>\n",
       "<style scoped>\n",
       "    .dataframe tbody tr th:only-of-type {\n",
       "        vertical-align: middle;\n",
       "    }\n",
       "\n",
       "    .dataframe tbody tr th {\n",
       "        vertical-align: top;\n",
       "    }\n",
       "\n",
       "    .dataframe thead th {\n",
       "        text-align: right;\n",
       "    }\n",
       "</style>\n",
       "<table border=\"1\" class=\"dataframe\">\n",
       "  <thead>\n",
       "    <tr style=\"text-align: right;\">\n",
       "      <th></th>\n",
       "      <th>YEAR</th>\n",
       "      <th>TICKETS SOLD</th>\n",
       "      <th>TOTAL BOX OFFICE</th>\n",
       "      <th>TOTAL INFLATION ADJUSTED BOX OFFICE</th>\n",
       "      <th>AVERAGE TICKET PRICE</th>\n",
       "      <th>Tickets_sold</th>\n",
       "    </tr>\n",
       "  </thead>\n",
       "  <tbody>\n",
       "    <tr>\n",
       "      <th>0</th>\n",
       "      <td>2021</td>\n",
       "      <td>42,37,74,881</td>\n",
       "      <td>3881777912</td>\n",
       "      <td>3881777912</td>\n",
       "      <td>9.16</td>\n",
       "      <td>423774881</td>\n",
       "    </tr>\n",
       "    <tr>\n",
       "      <th>1</th>\n",
       "      <td>2020</td>\n",
       "      <td>22,36,38,958</td>\n",
       "      <td>2048534616</td>\n",
       "      <td>2048534616</td>\n",
       "      <td>9.16</td>\n",
       "      <td>223638958</td>\n",
       "    </tr>\n",
       "    <tr>\n",
       "      <th>2</th>\n",
       "      <td>2019</td>\n",
       "      <td>1,22,85,41,629</td>\n",
       "      <td>11253443955</td>\n",
       "      <td>11253444050</td>\n",
       "      <td>9.16</td>\n",
       "      <td>1228541629</td>\n",
       "    </tr>\n",
       "    <tr>\n",
       "      <th>3</th>\n",
       "      <td>2018</td>\n",
       "      <td>1,31,15,36,128</td>\n",
       "      <td>11948096650</td>\n",
       "      <td>12013670952</td>\n",
       "      <td>9.11</td>\n",
       "      <td>1311536128</td>\n",
       "    </tr>\n",
       "    <tr>\n",
       "      <th>4</th>\n",
       "      <td>2017</td>\n",
       "      <td>1,22,56,39,761</td>\n",
       "      <td>10993991460</td>\n",
       "      <td>11226860216</td>\n",
       "      <td>8.97</td>\n",
       "      <td>1225639761</td>\n",
       "    </tr>\n",
       "  </tbody>\n",
       "</table>\n",
       "</div>"
      ],
      "text/plain": [
       "   YEAR    TICKETS SOLD TOTAL BOX OFFICE TOTAL INFLATION ADJUSTED BOX OFFICE  \\\n",
       "0  2021    42,37,74,881       3881777912                          3881777912   \n",
       "1  2020    22,36,38,958       2048534616                          2048534616   \n",
       "2  2019  1,22,85,41,629      11253443955                         11253444050   \n",
       "3  2018  1,31,15,36,128      11948096650                         12013670952   \n",
       "4  2017  1,22,56,39,761      10993991460                         11226860216   \n",
       "\n",
       "  AVERAGE TICKET PRICE Tickets_sold  \n",
       "0                 9.16    423774881  \n",
       "1                 9.16    223638958  \n",
       "2                 9.16   1228541629  \n",
       "3                 9.11   1311536128  \n",
       "4                 8.97   1225639761  "
      ]
     },
     "execution_count": 34,
     "metadata": {},
     "output_type": "execute_result"
    }
   ],
   "source": [
    "df.head()"
   ]
  },
  {
   "cell_type": "code",
   "execution_count": 35,
   "id": "63787eef",
   "metadata": {},
   "outputs": [],
   "source": [
    "df.drop(\"TICKETS SOLD\", axis = 1, inplace = True) # also can do by df.drop(columns = \"columns name\")"
   ]
  },
  {
   "cell_type": "code",
   "execution_count": 36,
   "id": "61ef2ae0",
   "metadata": {},
   "outputs": [
    {
     "data": {
      "text/html": [
       "<div>\n",
       "<style scoped>\n",
       "    .dataframe tbody tr th:only-of-type {\n",
       "        vertical-align: middle;\n",
       "    }\n",
       "\n",
       "    .dataframe tbody tr th {\n",
       "        vertical-align: top;\n",
       "    }\n",
       "\n",
       "    .dataframe thead th {\n",
       "        text-align: right;\n",
       "    }\n",
       "</style>\n",
       "<table border=\"1\" class=\"dataframe\">\n",
       "  <thead>\n",
       "    <tr style=\"text-align: right;\">\n",
       "      <th></th>\n",
       "      <th>YEAR</th>\n",
       "      <th>TOTAL BOX OFFICE</th>\n",
       "      <th>TOTAL INFLATION ADJUSTED BOX OFFICE</th>\n",
       "      <th>AVERAGE TICKET PRICE</th>\n",
       "      <th>Tickets_sold</th>\n",
       "    </tr>\n",
       "  </thead>\n",
       "  <tbody>\n",
       "    <tr>\n",
       "      <th>0</th>\n",
       "      <td>2021</td>\n",
       "      <td>3881777912</td>\n",
       "      <td>3881777912</td>\n",
       "      <td>9.16</td>\n",
       "      <td>423774881</td>\n",
       "    </tr>\n",
       "    <tr>\n",
       "      <th>1</th>\n",
       "      <td>2020</td>\n",
       "      <td>2048534616</td>\n",
       "      <td>2048534616</td>\n",
       "      <td>9.16</td>\n",
       "      <td>223638958</td>\n",
       "    </tr>\n",
       "    <tr>\n",
       "      <th>2</th>\n",
       "      <td>2019</td>\n",
       "      <td>11253443955</td>\n",
       "      <td>11253444050</td>\n",
       "      <td>9.16</td>\n",
       "      <td>1228541629</td>\n",
       "    </tr>\n",
       "    <tr>\n",
       "      <th>3</th>\n",
       "      <td>2018</td>\n",
       "      <td>11948096650</td>\n",
       "      <td>12013670952</td>\n",
       "      <td>9.11</td>\n",
       "      <td>1311536128</td>\n",
       "    </tr>\n",
       "    <tr>\n",
       "      <th>4</th>\n",
       "      <td>2017</td>\n",
       "      <td>10993991460</td>\n",
       "      <td>11226860216</td>\n",
       "      <td>8.97</td>\n",
       "      <td>1225639761</td>\n",
       "    </tr>\n",
       "  </tbody>\n",
       "</table>\n",
       "</div>"
      ],
      "text/plain": [
       "   YEAR TOTAL BOX OFFICE TOTAL INFLATION ADJUSTED BOX OFFICE  \\\n",
       "0  2021       3881777912                          3881777912   \n",
       "1  2020       2048534616                          2048534616   \n",
       "2  2019      11253443955                         11253444050   \n",
       "3  2018      11948096650                         12013670952   \n",
       "4  2017      10993991460                         11226860216   \n",
       "\n",
       "  AVERAGE TICKET PRICE Tickets_sold  \n",
       "0                 9.16    423774881  \n",
       "1                 9.16    223638958  \n",
       "2                 9.16   1228541629  \n",
       "3                 9.11   1311536128  \n",
       "4                 8.97   1225639761  "
      ]
     },
     "execution_count": 36,
     "metadata": {},
     "output_type": "execute_result"
    }
   ],
   "source": [
    "df.head()"
   ]
  },
  {
   "cell_type": "code",
   "execution_count": null,
   "id": "9f628156",
   "metadata": {},
   "outputs": [],
   "source": []
  },
  {
   "cell_type": "code",
   "execution_count": 49,
   "id": "6f4c1ac6",
   "metadata": {},
   "outputs": [],
   "source": [
    "# Most Tickets Sold years\n",
    "topyears = df.nlargest(5,'Tickets_sold')[['YEAR','Tickets_sold']]"
   ]
  },
  {
   "cell_type": "code",
   "execution_count": null,
   "id": "10cdc0d9",
   "metadata": {},
   "outputs": [],
   "source": []
  }
 ],
 "metadata": {
  "hide_input": false,
  "kernelspec": {
   "display_name": "Python 3 (ipykernel)",
   "language": "python",
   "name": "python3"
  },
  "language_info": {
   "codemirror_mode": {
    "name": "ipython",
    "version": 3
   },
   "file_extension": ".py",
   "mimetype": "text/x-python",
   "name": "python",
   "nbconvert_exporter": "python",
   "pygments_lexer": "ipython3",
   "version": "3.8.8"
  },
  "latex_envs": {
   "LaTeX_envs_menu_present": true,
   "autoclose": false,
   "autocomplete": true,
   "bibliofile": "biblio.bib",
   "cite_by": "apalike",
   "current_citInitial": 1,
   "eqLabelWithNumbers": true,
   "eqNumInitial": 1,
   "hotkeys": {
    "equation": "Ctrl-E",
    "itemize": "Ctrl-I"
   },
   "labels_anchors": false,
   "latex_user_defs": false,
   "report_style_numbering": false,
   "user_envs_cfg": false
  }
 },
 "nbformat": 4,
 "nbformat_minor": 5
}
