{
 "cells": [
  {
   "cell_type": "code",
   "execution_count": 1,
   "id": "bd5f9459-9a45-48c2-a447-c3ebd16dfb35",
   "metadata": {},
   "outputs": [
    {
     "name": "stderr",
     "output_type": "stream",
     "text": [
      "2023-01-01 13:23:26.308339: I tensorflow/core/platform/cpu_feature_guard.cc:193] This TensorFlow binary is optimized with oneAPI Deep Neural Network Library (oneDNN) to use the following CPU instructions in performance-critical operations:  AVX2 FMA\n",
      "To enable them in other operations, rebuild TensorFlow with the appropriate compiler flags.\n"
     ]
    }
   ],
   "source": [
    "import numpy as np\n",
    "import tensorflow as tf\n",
    "# page 415 around hands on ml 3"
   ]
  },
  {
   "cell_type": "code",
   "execution_count": 2,
   "id": "24ca9b30-5927-46a0-bae9-1c0c8b7fed59",
   "metadata": {},
   "outputs": [],
   "source": [
    "fashion_mnist = tf.keras.datasets.fashion_mnist.load_data()\n",
    "(X_train_full, y_train_full), (X_test, y_test) = fashion_mnist"
   ]
  },
  {
   "cell_type": "code",
   "execution_count": 3,
   "id": "5fad2b6f-f983-4002-ba77-aa9ff8ad37fe",
   "metadata": {},
   "outputs": [],
   "source": [
    "X_train, y_train = X_train_full[:-5000], y_train_full[:-5000]\n",
    "X_valid, y_valid = X_train_full[-5000:], y_train_full[-5000:]"
   ]
  },
  {
   "cell_type": "code",
   "execution_count": 4,
   "id": "9e1a26dc-dc0c-4af5-86f0-e937c4cb9570",
   "metadata": {},
   "outputs": [
    {
     "name": "stdout",
     "output_type": "stream",
     "text": [
      "(55000, 28, 28)\n",
      "uint8\n"
     ]
    }
   ],
   "source": [
    "print(X_train.shape)\n",
    "print(X_train.dtype)"
   ]
  },
  {
   "cell_type": "code",
   "execution_count": 5,
   "id": "597cbdbb-54b8-4c1a-a791-c420df398488",
   "metadata": {},
   "outputs": [],
   "source": [
    "# Doing Normalizing by Dividing 255.0\n",
    "X_train, X_valid, X_test = X_train / 255., X_valid / 255., X_test / 255."
   ]
  },
  {
   "cell_type": "code",
   "execution_count": 6,
   "id": "1f72ba97-7413-4326-bb99-b1662eab5559",
   "metadata": {},
   "outputs": [],
   "source": [
    "class_names = [\"T-shirt/top\", \"Trouser\", \"Pullover\", \"Dress\", \"Coat\",\n",
    "\"Sandal\", \"Shirt\", \"Sneaker\", \"Bag\", \"Ankle boot\"]"
   ]
  },
  {
   "cell_type": "code",
   "execution_count": 7,
   "id": "8cd4c61c-5c9b-4a66-953f-019bb8d5ea16",
   "metadata": {},
   "outputs": [
    {
     "data": {
      "text/plain": [
       "'Ankle boot'"
      ]
     },
     "execution_count": 7,
     "metadata": {},
     "output_type": "execute_result"
    }
   ],
   "source": [
    "class_names[y_train[0]]"
   ]
  },
  {
   "cell_type": "markdown",
   "id": "45ad425b-ecf8-48e5-b25e-fd866944ae4d",
   "metadata": {},
   "source": [
    "### Creating the Model using the Sequential API"
   ]
  },
  {
   "cell_type": "code",
   "execution_count": 8,
   "id": "9346126f-d879-4cf8-8293-e1205d78f926",
   "metadata": {},
   "outputs": [],
   "source": [
    "tf.random.set_seed(42)\n",
    "\n",
    "model = tf.keras.Sequential([\n",
    "tf.keras.layers.Flatten(input_shape=[28, 28]),\n",
    "tf.keras.layers.Dense(300, activation=\"relu\"),\n",
    "tf.keras.layers.Dense(100, activation=\"relu\"),\n",
    "tf.keras.layers.Dense(10, activation=\"softmax\")\n",
    "])"
   ]
  },
  {
   "cell_type": "code",
   "execution_count": 9,
   "id": "07b6b374-214f-430e-b811-b81e71465ded",
   "metadata": {},
   "outputs": [
    {
     "name": "stdout",
     "output_type": "stream",
     "text": [
      "Model: \"sequential\"\n",
      "_________________________________________________________________\n",
      " Layer (type)                Output Shape              Param #   \n",
      "=================================================================\n",
      " flatten (Flatten)           (None, 784)               0         \n",
      "                                                                 \n",
      " dense (Dense)               (None, 300)               235500    \n",
      "                                                                 \n",
      " dense_1 (Dense)             (None, 100)               30100     \n",
      "                                                                 \n",
      " dense_2 (Dense)             (None, 10)                1010      \n",
      "                                                                 \n",
      "=================================================================\n",
      "Total params: 266,610\n",
      "Trainable params: 266,610\n",
      "Non-trainable params: 0\n",
      "_________________________________________________________________\n"
     ]
    }
   ],
   "source": [
    "model.summary()"
   ]
  },
  {
   "cell_type": "code",
   "execution_count": 10,
   "id": "8ea24ce4-f8ac-4937-b7d8-0e88a41baa66",
   "metadata": {},
   "outputs": [],
   "source": [
    "model.compile(loss=\"sparse_categorical_crossentropy\",\n",
    "optimizer=\"sgd\",\n",
    "metrics=[\"accuracy\"])"
   ]
  },
  {
   "cell_type": "markdown",
   "id": "0e92ef2c-e161-41b5-ab15-6047a982f528",
   "metadata": {},
   "source": [
    "### Training and Evaluating the Model"
   ]
  },
  {
   "cell_type": "code",
   "execution_count": 11,
   "id": "b4428a4f-9f50-42d1-b174-2778b37b1512",
   "metadata": {},
   "outputs": [
    {
     "name": "stdout",
     "output_type": "stream",
     "text": [
      "Epoch 1/50\n",
      "1719/1719 [==============================] - 3s 1ms/step - loss: 0.7156 - accuracy: 0.7651 - val_loss: 0.5032 - val_accuracy: 0.8292\n",
      "Epoch 2/50\n",
      "1719/1719 [==============================] - 2s 1ms/step - loss: 0.4864 - accuracy: 0.8307 - val_loss: 0.4509 - val_accuracy: 0.8364\n",
      "Epoch 3/50\n",
      "1719/1719 [==============================] - 2s 1ms/step - loss: 0.4396 - accuracy: 0.8451 - val_loss: 0.4213 - val_accuracy: 0.8530\n",
      "Epoch 4/50\n",
      "1719/1719 [==============================] - 2s 1ms/step - loss: 0.4138 - accuracy: 0.8551 - val_loss: 0.3959 - val_accuracy: 0.8622\n",
      "Epoch 5/50\n",
      "1719/1719 [==============================] - 2s 1ms/step - loss: 0.3916 - accuracy: 0.8612 - val_loss: 0.3873 - val_accuracy: 0.8614\n",
      "Epoch 6/50\n",
      "1719/1719 [==============================] - 2s 1ms/step - loss: 0.3747 - accuracy: 0.8677 - val_loss: 0.3941 - val_accuracy: 0.8604\n",
      "Epoch 7/50\n",
      "1719/1719 [==============================] - 2s 1ms/step - loss: 0.3620 - accuracy: 0.8709 - val_loss: 0.3693 - val_accuracy: 0.8698\n",
      "Epoch 8/50\n",
      "1719/1719 [==============================] - 2s 1ms/step - loss: 0.3506 - accuracy: 0.8748 - val_loss: 0.3684 - val_accuracy: 0.8642\n",
      "Epoch 9/50\n",
      "1719/1719 [==============================] - 2s 1ms/step - loss: 0.3401 - accuracy: 0.8793 - val_loss: 0.3468 - val_accuracy: 0.8758\n",
      "Epoch 10/50\n",
      "1719/1719 [==============================] - 2s 1ms/step - loss: 0.3305 - accuracy: 0.8820 - val_loss: 0.3456 - val_accuracy: 0.8762\n",
      "Epoch 11/50\n",
      "1719/1719 [==============================] - 2s 1ms/step - loss: 0.3218 - accuracy: 0.8854 - val_loss: 0.3596 - val_accuracy: 0.8706\n",
      "Epoch 12/50\n",
      "1719/1719 [==============================] - 2s 1ms/step - loss: 0.3144 - accuracy: 0.8866 - val_loss: 0.3438 - val_accuracy: 0.8758\n",
      "Epoch 13/50\n",
      "1719/1719 [==============================] - 2s 1ms/step - loss: 0.3073 - accuracy: 0.8911 - val_loss: 0.3269 - val_accuracy: 0.8796\n",
      "Epoch 14/50\n",
      "1719/1719 [==============================] - 2s 1ms/step - loss: 0.3000 - accuracy: 0.8923 - val_loss: 0.3349 - val_accuracy: 0.8804\n",
      "Epoch 15/50\n",
      "1719/1719 [==============================] - 2s 1ms/step - loss: 0.2942 - accuracy: 0.8949 - val_loss: 0.3366 - val_accuracy: 0.8800\n",
      "Epoch 16/50\n",
      "1719/1719 [==============================] - 2s 1ms/step - loss: 0.2871 - accuracy: 0.8973 - val_loss: 0.3251 - val_accuracy: 0.8782\n",
      "Epoch 17/50\n",
      "1719/1719 [==============================] - 2s 1ms/step - loss: 0.2822 - accuracy: 0.8981 - val_loss: 0.3377 - val_accuracy: 0.8780\n",
      "Epoch 18/50\n",
      "1719/1719 [==============================] - 2s 1ms/step - loss: 0.2765 - accuracy: 0.9006 - val_loss: 0.3266 - val_accuracy: 0.8814\n",
      "Epoch 19/50\n",
      "1719/1719 [==============================] - 2s 1ms/step - loss: 0.2713 - accuracy: 0.9030 - val_loss: 0.3488 - val_accuracy: 0.8684\n",
      "Epoch 20/50\n",
      "1719/1719 [==============================] - 2s 1ms/step - loss: 0.2666 - accuracy: 0.9046 - val_loss: 0.3160 - val_accuracy: 0.8854\n",
      "Epoch 21/50\n",
      "1719/1719 [==============================] - 2s 1ms/step - loss: 0.2612 - accuracy: 0.9056 - val_loss: 0.3156 - val_accuracy: 0.8850\n",
      "Epoch 22/50\n",
      "1719/1719 [==============================] - 2s 1ms/step - loss: 0.2560 - accuracy: 0.9070 - val_loss: 0.3157 - val_accuracy: 0.8834\n",
      "Epoch 23/50\n",
      "1719/1719 [==============================] - 2s 1ms/step - loss: 0.2518 - accuracy: 0.9102 - val_loss: 0.3383 - val_accuracy: 0.8754\n",
      "Epoch 24/50\n",
      "1719/1719 [==============================] - 2s 1ms/step - loss: 0.2474 - accuracy: 0.9107 - val_loss: 0.3210 - val_accuracy: 0.8848\n",
      "Epoch 25/50\n",
      "1719/1719 [==============================] - 2s 1ms/step - loss: 0.2431 - accuracy: 0.9122 - val_loss: 0.3127 - val_accuracy: 0.8840\n",
      "Epoch 26/50\n",
      "1719/1719 [==============================] - 2s 1ms/step - loss: 0.2393 - accuracy: 0.9146 - val_loss: 0.3139 - val_accuracy: 0.8860\n",
      "Epoch 27/50\n",
      "1719/1719 [==============================] - 2s 1ms/step - loss: 0.2343 - accuracy: 0.9149 - val_loss: 0.3202 - val_accuracy: 0.8840\n",
      "Epoch 28/50\n",
      "1719/1719 [==============================] - 2s 1ms/step - loss: 0.2312 - accuracy: 0.9170 - val_loss: 0.3089 - val_accuracy: 0.8914\n",
      "Epoch 29/50\n",
      "1719/1719 [==============================] - 2s 1ms/step - loss: 0.2273 - accuracy: 0.9186 - val_loss: 0.3180 - val_accuracy: 0.8850\n",
      "Epoch 30/50\n",
      "1719/1719 [==============================] - 2s 1ms/step - loss: 0.2236 - accuracy: 0.9194 - val_loss: 0.3057 - val_accuracy: 0.8898\n",
      "Epoch 31/50\n",
      "1719/1719 [==============================] - 2s 1ms/step - loss: 0.2188 - accuracy: 0.9213 - val_loss: 0.3139 - val_accuracy: 0.8884\n",
      "Epoch 32/50\n",
      "1719/1719 [==============================] - 2s 1ms/step - loss: 0.2171 - accuracy: 0.9221 - val_loss: 0.3102 - val_accuracy: 0.8878\n",
      "Epoch 33/50\n",
      "1719/1719 [==============================] - 2s 1ms/step - loss: 0.2126 - accuracy: 0.9230 - val_loss: 0.3461 - val_accuracy: 0.8732\n",
      "Epoch 34/50\n",
      "1719/1719 [==============================] - 2s 1ms/step - loss: 0.2086 - accuracy: 0.9257 - val_loss: 0.3156 - val_accuracy: 0.8886\n",
      "Epoch 35/50\n",
      "1719/1719 [==============================] - 2s 1ms/step - loss: 0.2052 - accuracy: 0.9277 - val_loss: 0.3060 - val_accuracy: 0.8896\n",
      "Epoch 36/50\n",
      "1719/1719 [==============================] - 2s 1ms/step - loss: 0.2020 - accuracy: 0.9274 - val_loss: 0.3026 - val_accuracy: 0.8912\n",
      "Epoch 37/50\n",
      "1719/1719 [==============================] - 2s 1ms/step - loss: 0.1989 - accuracy: 0.9292 - val_loss: 0.3126 - val_accuracy: 0.8876\n",
      "Epoch 38/50\n",
      "1719/1719 [==============================] - 2s 1ms/step - loss: 0.1960 - accuracy: 0.9301 - val_loss: 0.3156 - val_accuracy: 0.8900\n",
      "Epoch 39/50\n",
      "1719/1719 [==============================] - 2s 1ms/step - loss: 0.1928 - accuracy: 0.9318 - val_loss: 0.3035 - val_accuracy: 0.8936\n",
      "Epoch 40/50\n",
      "1719/1719 [==============================] - 2s 1ms/step - loss: 0.1889 - accuracy: 0.9336 - val_loss: 0.3104 - val_accuracy: 0.8882\n",
      "Epoch 41/50\n",
      "1719/1719 [==============================] - 2s 1ms/step - loss: 0.1871 - accuracy: 0.9325 - val_loss: 0.3087 - val_accuracy: 0.8910\n",
      "Epoch 42/50\n",
      "1719/1719 [==============================] - 2s 1ms/step - loss: 0.1837 - accuracy: 0.9351 - val_loss: 0.3238 - val_accuracy: 0.8852\n",
      "Epoch 43/50\n",
      "1719/1719 [==============================] - 2s 1ms/step - loss: 0.1806 - accuracy: 0.9363 - val_loss: 0.3315 - val_accuracy: 0.8870\n",
      "Epoch 44/50\n",
      "1719/1719 [==============================] - 2s 1ms/step - loss: 0.1773 - accuracy: 0.9366 - val_loss: 0.3070 - val_accuracy: 0.8922\n",
      "Epoch 45/50\n",
      "1719/1719 [==============================] - 2s 1ms/step - loss: 0.1756 - accuracy: 0.9376 - val_loss: 0.3147 - val_accuracy: 0.8916\n",
      "Epoch 46/50\n",
      "1719/1719 [==============================] - 2s 1ms/step - loss: 0.1723 - accuracy: 0.9377 - val_loss: 0.3153 - val_accuracy: 0.8922\n",
      "Epoch 47/50\n",
      "1719/1719 [==============================] - 2s 1ms/step - loss: 0.1692 - accuracy: 0.9394 - val_loss: 0.3165 - val_accuracy: 0.8900\n",
      "Epoch 48/50\n",
      "1719/1719 [==============================] - 2s 1ms/step - loss: 0.1666 - accuracy: 0.9414 - val_loss: 0.3429 - val_accuracy: 0.8816\n",
      "Epoch 49/50\n",
      "1719/1719 [==============================] - 2s 1ms/step - loss: 0.1637 - accuracy: 0.9422 - val_loss: 0.3249 - val_accuracy: 0.8896\n",
      "Epoch 50/50\n",
      "1719/1719 [==============================] - 2s 1ms/step - loss: 0.1612 - accuracy: 0.9435 - val_loss: 0.3282 - val_accuracy: 0.8892\n"
     ]
    }
   ],
   "source": [
    "history = model.fit(X_train, y_train, epochs=50,validation_data=(X_valid, y_valid))"
   ]
  },
  {
   "cell_type": "code",
   "execution_count": 12,
   "id": "5c5aa753-df79-44d4-af5c-f74f0299ae87",
   "metadata": {},
   "outputs": [
    {
     "data": {
      "image/png": "[encoded data removed]",
      "text/plain": [
       "<Figure size 800x500 with 1 Axes>"
      ]
     },
     "metadata": {},
     "output_type": "display_data"
    }
   ],
   "source": [
    "# page 418 \n",
    "import matplotlib.pyplot as plt\n",
    "import pandas as pd\n",
    "pd.DataFrame(history.history).plot(\n",
    "figsize=(8, 5), xlim=[0, 29], ylim=[0, 1], grid=True, xlabel=\"Epoch\",\n",
    "style=[\"r--\", \"r--.\", \"b-\", \"b-*\"])\n",
    "plt.show()"
   ]
  },
  {
   "cell_type": "code",
   "execution_count": 13,
   "id": "ab50abd7-d4bb-4901-ad4d-bb6ec98acaf8",
   "metadata": {},
   "outputs": [
    {
     "data": {
      "text/html": [
       "<div>\n",
       "<style scoped>\n",
       "    .dataframe tbody tr th:only-of-type {\n",
       "        vertical-align: middle;\n",
       "    }\n",
       "\n",
       "    .dataframe tbody tr th {\n",
       "        vertical-align: top;\n",
       "    }\n",
       "\n",
       "    .dataframe thead th {\n",
       "        text-align: right;\n",
       "    }\n",
       "</style>\n",
       "<table border=\"1\" class=\"dataframe\">\n",
       "  <thead>\n",
       "    <tr style=\"text-align: right;\">\n",
       "      <th></th>\n",
       "      <th>loss</th>\n",
       "      <th>accuracy</th>\n",
       "      <th>val_loss</th>\n",
       "      <th>val_accuracy</th>\n",
       "    </tr>\n",
       "  </thead>\n",
       "  <tbody>\n",
       "    <tr>\n",
       "      <th>0</th>\n",
       "      <td>0.715618</td>\n",
       "      <td>0.765127</td>\n",
       "      <td>0.503201</td>\n",
       "      <td>0.8292</td>\n",
       "    </tr>\n",
       "    <tr>\n",
       "      <th>1</th>\n",
       "      <td>0.486436</td>\n",
       "      <td>0.830655</td>\n",
       "      <td>0.450935</td>\n",
       "      <td>0.8364</td>\n",
       "    </tr>\n",
       "    <tr>\n",
       "      <th>2</th>\n",
       "      <td>0.439584</td>\n",
       "      <td>0.845055</td>\n",
       "      <td>0.421263</td>\n",
       "      <td>0.8530</td>\n",
       "    </tr>\n",
       "    <tr>\n",
       "      <th>3</th>\n",
       "      <td>0.413812</td>\n",
       "      <td>0.855091</td>\n",
       "      <td>0.395876</td>\n",
       "      <td>0.8622</td>\n",
       "    </tr>\n",
       "    <tr>\n",
       "      <th>4</th>\n",
       "      <td>0.391630</td>\n",
       "      <td>0.861164</td>\n",
       "      <td>0.387303</td>\n",
       "      <td>0.8614</td>\n",
       "    </tr>\n",
       "  </tbody>\n",
       "</table>\n",
       "</div>"
      ],
      "text/plain": [
       "       loss  accuracy  val_loss  val_accuracy\n",
       "0  0.715618  0.765127  0.503201        0.8292\n",
       "1  0.486436  0.830655  0.450935        0.8364\n",
       "2  0.439584  0.845055  0.421263        0.8530\n",
       "3  0.413812  0.855091  0.395876        0.8622\n",
       "4  0.391630  0.861164  0.387303        0.8614"
      ]
     },
     "execution_count": 13,
     "metadata": {},
     "output_type": "execute_result"
    }
   ],
   "source": [
    "pd.DataFrame(history.history).head()"
   ]
  },
  {
   "cell_type": "code",
   "execution_count": 14,
   "id": "147b9f53-4b21-4fd4-b48d-853050b3a305",
   "metadata": {},
   "outputs": [
    {
     "data": {
      "image/png": "[encoded data removed]",
      "text/plain": [
       "<Figure size 800x500 with 1 Axes>"
      ]
     },
     "metadata": {},
     "output_type": "display_data"
    }
   ],
   "source": [
    "# Extra COde \n",
    "# Shows how to shift the training curve by 1/2 epoch\n",
    "\n",
    "plt.figure(figsize=(8,5))\n",
    "for key, style in zip(history.history, ['r--', 'r--.', \"b-\", \"b-*\"]):\n",
    "    epochs = np.array(history.epoch) + (0 if key.startswith('val_') else -0.5)\n",
    "    plt.plot(epochs, history.history[key], style, label = key)\n",
    "    \n",
    "plt.xlabel(\"Epochs\")\n",
    "plt.axis([-0.5,29, 0. , 1])\n",
    "plt.legend(loc = \"lower left\")\n",
    "plt.grid()\n",
    "plt.show()"
   ]
  },
  {
   "cell_type": "code",
   "execution_count": 15,
   "id": "6a7da02b-f379-4813-b937-12d024a75aff",
   "metadata": {},
   "outputs": [
    {
     "name": "stdout",
     "output_type": "stream",
     "text": [
      "313/313 [==============================] - 0s 787us/step - loss: 0.3484 - accuracy: 0.8820\n"
     ]
    },
    {
     "data": {
      "text/plain": [
       "[0.3483703136444092, 0.8820000290870667]"
      ]
     },
     "execution_count": 15,
     "metadata": {},
     "output_type": "execute_result"
    }
   ],
   "source": [
    "model.evaluate(X_test, y_test)"
   ]
  },
  {
   "cell_type": "markdown",
   "id": "b82a771c-3d0d-4e8e-93b2-306738c43ff1",
   "metadata": {},
   "source": [
    "### Using the Model to make Predictions"
   ]
  },
  {
   "cell_type": "code",
   "execution_count": 16,
   "id": "2ac48b3e-d938-4924-a285-1ebc61d879d4",
   "metadata": {},
   "outputs": [
    {
     "name": "stdout",
     "output_type": "stream",
     "text": [
      "1/1 [==============================] - 0s 47ms/step\n"
     ]
    },
    {
     "data": {
      "text/plain": [
       "array([[0.  , 0.  , 0.  , 0.  , 0.  , 0.  , 0.  , 0.  , 0.  , 1.  ],\n",
       "       [0.  , 0.  , 0.98, 0.  , 0.02, 0.  , 0.  , 0.  , 0.  , 0.  ],\n",
       "       [0.  , 1.  , 0.  , 0.  , 0.  , 0.  , 0.  , 0.  , 0.  , 0.  ]],\n",
       "      dtype=float32)"
      ]
     },
     "execution_count": 16,
     "metadata": {},
     "output_type": "execute_result"
    }
   ],
   "source": [
    "X_new = X_test[:3]\n",
    "y_proba = model.predict(X_new)\n",
    "y_proba.round(2)"
   ]
  },
  {
   "cell_type": "code",
   "execution_count": 17,
   "id": "dbd61509-27f8-446a-a3d2-dabd3310ccb1",
   "metadata": {},
   "outputs": [
    {
     "data": {
      "text/plain": [
       "array([[5.97029498e-07, 3.10553645e-08, 7.11518240e-08, 4.20104520e-08,\n",
       "        2.86228214e-07, 4.95962217e-04, 1.73192433e-07, 5.25013602e-04,\n",
       "        1.05522158e-05, 9.98967171e-01],\n",
       "       [2.43933959e-04, 2.69937388e-08, 9.83367682e-01, 9.35812139e-09,\n",
       "        1.63314268e-02, 3.60975902e-11, 5.68631403e-05, 1.16410895e-07,\n",
       "        3.04647685e-08, 1.30310179e-10],\n",
       "       [8.83039718e-07, 9.99999046e-01, 4.64037385e-11, 2.01426644e-08,\n",
       "        1.11021791e-07, 1.35415724e-12, 3.91096426e-11, 4.40586641e-13,\n",
       "        5.17099030e-10, 3.10497965e-13]], dtype=float32)"
      ]
     },
     "execution_count": 17,
     "metadata": {},
     "output_type": "execute_result"
    }
   ],
   "source": [
    "y_proba"
   ]
  },
  {
   "cell_type": "code",
   "execution_count": 18,
   "id": "eff40520-b1a4-4f3e-9749-dd80b9cd94de",
   "metadata": {},
   "outputs": [
    {
     "data": {
      "text/plain": [
       "array([9, 2, 1])"
      ]
     },
     "execution_count": 18,
     "metadata": {},
     "output_type": "execute_result"
    }
   ],
   "source": [
    "y_pred = y_proba.argmax(axis = -1)\n",
    "y_pred"
   ]
  },
  {
   "cell_type": "code",
   "execution_count": 19,
   "id": "2e7e340c-b9b8-4af1-ae1c-a5ec3240d052",
   "metadata": {},
   "outputs": [
    {
     "data": {
      "text/plain": [
       "array(['Ankle boot', 'Pullover', 'Trouser'], dtype='<U11')"
      ]
     },
     "execution_count": 19,
     "metadata": {},
     "output_type": "execute_result"
    }
   ],
   "source": [
    "np.array(class_names)[y_pred]"
   ]
  },
  {
   "cell_type": "code",
   "execution_count": 20,
   "id": "722211d0-4057-44b5-976a-44e89f3e56ae",
   "metadata": {},
   "outputs": [
    {
     "data": {
      "text/plain": [
       "array([9, 2, 1], dtype=uint8)"
      ]
     },
     "execution_count": 20,
     "metadata": {},
     "output_type": "execute_result"
    }
   ],
   "source": [
    "y_new = y_test[:3]\n",
    "y_new"
   ]
  },
  {
   "cell_type": "code",
   "execution_count": 21,
   "id": "f1e9d94a-7476-494e-b08e-f76acb2f35f6",
   "metadata": {},
   "outputs": [
    {
     "data": {
      "image/png": "[encoded data removed]",
      "text/plain": [
       "<Figure size 720x240 with 3 Axes>"
      ]
     },
     "metadata": {},
     "output_type": "display_data"
    }
   ],
   "source": [
    "# Extra Code this cell generates and saves Figure 10-12\n",
    "plt.figure(figsize=(7.2, 2.4))\n",
    "for index, image in enumerate(X_new):\n",
    "    plt.subplot(1,3, index +1)\n",
    "    plt.imshow(image)\n",
    "    plt.axis('off')\n",
    "    plt.title(class_names[y_test[index]])"
   ]
  },
  {
   "cell_type": "markdown",
   "id": "78c1fa17-7125-4294-b9e7-9d132525b8ba",
   "metadata": {},
   "source": [
    "## Building a Regression MLP Using the Sequential API"
   ]
  },
  {
   "cell_type": "code",
   "execution_count": 23,
   "id": "de0dd36c-5e32-40ed-a7f1-f1ccc782883e",
   "metadata": {},
   "outputs": [
    {
     "name": "stdout",
     "output_type": "stream",
     "text": [
      "Epoch 1/20\n",
      "1719/1719 [==============================] - 4s 2ms/step - loss: 8.6088 - root_mean_squared_error: 2.9341 - val_loss: 8.4241 - val_root_mean_squared_error: 2.9026\n",
      "Epoch 2/20\n",
      "1719/1719 [==============================] - 3s 2ms/step - loss: 8.3081 - root_mean_squared_error: 2.8824 - val_loss: 8.3961 - val_root_mean_squared_error: 2.8978\n",
      "Epoch 3/20\n",
      "1719/1719 [==============================] - 3s 2ms/step - loss: 8.2883 - root_mean_squared_error: 2.8789 - val_loss: 8.4078 - val_root_mean_squared_error: 2.8998\n",
      "Epoch 4/20\n",
      "1719/1719 [==============================] - 3s 2ms/step - loss: 8.2815 - root_mean_squared_error: 2.8778 - val_loss: 8.4522 - val_root_mean_squared_error: 2.9074\n",
      "Epoch 5/20\n",
      "1719/1719 [==============================] - 3s 2ms/step - loss: 8.2741 - root_mean_squared_error: 2.8765 - val_loss: 8.3939 - val_root_mean_squared_error: 2.8974\n",
      "Epoch 6/20\n",
      "1719/1719 [==============================] - 3s 2ms/step - loss: 8.2646 - root_mean_squared_error: 2.8749 - val_loss: 8.3690 - val_root_mean_squared_error: 2.8931\n",
      "Epoch 7/20\n",
      "1719/1719 [==============================] - 3s 2ms/step - loss: 8.2686 - root_mean_squared_error: 2.8755 - val_loss: 8.3779 - val_root_mean_squared_error: 2.8947\n",
      "Epoch 8/20\n",
      "1719/1719 [==============================] - 3s 2ms/step - loss: 8.2609 - root_mean_squared_error: 2.8742 - val_loss: 8.3672 - val_root_mean_squared_error: 2.8928\n",
      "Epoch 9/20\n",
      "1719/1719 [==============================] - 3s 2ms/step - loss: 8.2561 - root_mean_squared_error: 2.8733 - val_loss: 8.3669 - val_root_mean_squared_error: 2.8927\n",
      "Epoch 10/20\n",
      "1719/1719 [==============================] - 3s 2ms/step - loss: 8.2529 - root_mean_squared_error: 2.8728 - val_loss: 8.3761 - val_root_mean_squared_error: 2.8943\n",
      "Epoch 11/20\n",
      "1719/1719 [==============================] - 3s 2ms/step - loss: 8.2537 - root_mean_squared_error: 2.8729 - val_loss: 8.3700 - val_root_mean_squared_error: 2.8933\n",
      "Epoch 12/20\n",
      "1719/1719 [==============================] - 3s 2ms/step - loss: 8.2511 - root_mean_squared_error: 2.8725 - val_loss: 8.3990 - val_root_mean_squared_error: 2.8982\n",
      "Epoch 13/20\n",
      "1719/1719 [==============================] - 3s 2ms/step - loss: 8.2509 - root_mean_squared_error: 2.8725 - val_loss: 8.4111 - val_root_mean_squared_error: 2.9003\n",
      "Epoch 14/20\n",
      "1719/1719 [==============================] - 3s 2ms/step - loss: 8.2492 - root_mean_squared_error: 2.8722 - val_loss: 8.3673 - val_root_mean_squared_error: 2.8928\n",
      "Epoch 15/20\n",
      "1719/1719 [==============================] - 3s 2ms/step - loss: 8.2496 - root_mean_squared_error: 2.8722 - val_loss: 8.3664 - val_root_mean_squared_error: 2.8927\n",
      "Epoch 16/20\n",
      "1719/1719 [==============================] - 3s 2ms/step - loss: 8.2476 - root_mean_squared_error: 2.8719 - val_loss: 8.3670 - val_root_mean_squared_error: 2.8928\n",
      "Epoch 17/20\n",
      "1719/1719 [==============================] - 3s 2ms/step - loss: 8.2464 - root_mean_squared_error: 2.8717 - val_loss: 8.3894 - val_root_mean_squared_error: 2.8966\n",
      "Epoch 18/20\n",
      "1719/1719 [==============================] - 3s 2ms/step - loss: 8.2482 - root_mean_squared_error: 2.8720 - val_loss: 8.3661 - val_root_mean_squared_error: 2.8926\n",
      "Epoch 19/20\n",
      "1719/1719 [==============================] - 3s 2ms/step - loss: 8.2472 - root_mean_squared_error: 2.8718 - val_loss: 8.3729 - val_root_mean_squared_error: 2.8938\n",
      "Epoch 20/20\n",
      "1719/1719 [==============================] - 3s 2ms/step - loss: 8.2483 - root_mean_squared_error: 2.8720 - val_loss: 8.3662 - val_root_mean_squared_error: 2.8926\n",
      "313/313 [==============================] - 0s 1ms/step - loss: 8.2481 - root_mean_squared_error: 2.8719\n",
      "1/1 [==============================] - 0s 79ms/step\n"
     ]
    }
   ],
   "source": [
    "tf.random.set_seed(42)\n",
    "norm_layer = tf.keras.layers.Normalization(input_shape= X_train.shape[1:])\n",
    "model = tf.keras.Sequential([\n",
    "    norm_layer, \n",
    "    tf.keras.layers.Dense(50, activation = \"relu\"),\n",
    "    tf.keras.layers.Dense(50, activation= \"relu\"),\n",
    "    tf.keras.layers.Dense(50, activation= \"relu\"),\n",
    "    tf.keras.layers.Dense(1)\n",
    "])\n",
    "\n",
    "optimizer = tf.keras.optimizers.Adam(learning_rate=1e-3)\n",
    "model.compile(loss = \"mse\", optimizer=optimizer, metrics = [\"RootMeanSquaredError\"])\n",
    "\n",
    "norm_layer.adapt(X_train)\n",
    "\n",
    "history = model.fit(X_train, y_train, epochs=20,\n",
    "                   validation_data=(X_valid, y_valid))\n",
    "\n",
    "mse_test, rmse_test = model.evaluate(X_test, y_test)\n",
    "X_new = X_test[:3]\n",
    "y_pred = model.predict(X_new)"
   ]
  },
  {
   "cell_type": "markdown",
   "id": "df7e17ce-dcd2-41c2-a610-1576e878d311",
   "metadata": {},
   "source": [
    "## Building Complex Models Using the Functional API"
   ]
  },
  {
   "cell_type": "code",
   "execution_count": 24,
   "id": "40ba31cc-e70c-47bb-9b08-398d7ff588a8",
   "metadata": {},
   "outputs": [],
   "source": [
    "# page 423\n",
    "# Build a Neural Network to tackle the California housing problem"
   ]
  },
  {
   "cell_type": "code",
   "execution_count": 31,
   "id": "2d7aa9bf-cbc6-4f83-bc59-2945e1a0228d",
   "metadata": {},
   "outputs": [],
   "source": [
    "normalization_layer = tf.keras.layers.Normalization()\n",
    "hidden_layer1 = tf.keras.layers.Dense(30, activation=\"relu\")\n",
    "hidden_layer2 = tf.keras.layers.Dense(30, activation=\"relu\")\n",
    "concat_layer  = tf.keras.layers.Concatenate()\n",
    "output_layer = tf.keras.layers.Dense(1)\n",
    "\n",
    "input_ = tf.keras.layers.Input(shape=X_train.shape[1:])\n",
    "normalized = normalization_layer(input_)\n",
    "hidden1 = hidden_layer1(normalized)\n",
    "hidden2 = hidden_layer2(hidden1)\n",
    "concat  = concat_layer([normalized, hidden2])\n",
    "output = output_layer(concat)\n",
    "\n",
    "model = tf.keras.Model(input_)\n",
    "\n"
   ]
  },
  {
   "cell_type": "code",
   "execution_count": 32,
   "id": "6d957e02-ba0a-45a9-8a1f-d98611b70e65",
   "metadata": {},
   "outputs": [],
   "source": [
    "# page 425\n",
    "input_wide = tf.keras.layers.Input(shape=[5]) # features 0 to 4\n",
    "input_deep = tf.keras.layers.Input(shape=[6]) # features 2 to 7\n",
    "norm_layer_wide = tf.keras.layers.Normalization()\n",
    "norm_layer_deep = tf.keras.layers.Normalization()\n",
    "norm_wide = norm_layer_wide(input_wide)\n",
    "norm_deep = norm_layer_deep(input_deep)\n",
    "hidden1 = tf.keras.layers.Dense(30, activation=\"relu\")(norm_deep)\n",
    "hidden2 = tf.keras.layers.Dense(30, activation=\"relu\")(hidden1)\n",
    "concat = tf.keras.layers.concatenate([norm_wide, hidden2])\n",
    "output = tf.keras.layers.Dense(1)(concat)\n",
    "model = tf.keras.Model(inputs=[input_wide, input_deep], outputs=[output])"
   ]
  },
  {
   "cell_type": "code",
   "execution_count": 35,
   "id": "fcec49c4-e4bf-435f-991d-3e15aaab862d",
   "metadata": {},
   "outputs": [],
   "source": [
    "optimizer = tf.keras.optimizers.Adam(learning_rate=1e-3)\n",
    "model.compile(loss = \"mse\", optimizer= optimizer, metrics = [\"RootMeanSquaredError\"])"
   ]
  },
  {
   "cell_type": "code",
   "execution_count": 36,
   "id": "36ff46c2-7a97-4d54-8ec6-86ef5ccd59b6",
   "metadata": {},
   "outputs": [
    {
     "ename": "ValueError",
     "evalue": "in user code:\n\n    File \"/home/krish/anaconda3/envs/tf/lib/python3.9/site-packages/keras/engine/base_preprocessing_layer.py\", line 123, in adapt_step  *\n        self.update_state(data)\n    File \"/home/krish/anaconda3/envs/tf/lib/python3.9/site-packages/keras/layers/preprocessing/normalization.py\", line 318, in update_state  **\n        self.adapt_mean * existing_weight + batch_mean * batch_weight\n\n    ValueError: Dimensions must be equal, but are 5 and 28 for '{{node add_1}} = AddV2[T=DT_FLOAT](mul, mul_1)' with input shapes: [5], [5,28].\n",
     "output_type": "error",
     "traceback": [
      "\u001b[0;31m---------------------------------------------------------------------------\u001b[0m",
      "\u001b[0;31mValueError\u001b[0m                                Traceback (most recent call last)",
      "Cell \u001b[0;32mIn[36], line 5\u001b[0m\n\u001b[1;32m      3\u001b[0m X_test_wide, X_test_deep \u001b[38;5;241m=\u001b[39m X_test[:, :\u001b[38;5;241m5\u001b[39m], X_test[:, \u001b[38;5;241m2\u001b[39m:]\n\u001b[1;32m      4\u001b[0m X_new_wide, X_new_deep \u001b[38;5;241m=\u001b[39m X_test_wide[:\u001b[38;5;241m3\u001b[39m], X_test_deep[:\u001b[38;5;241m3\u001b[39m]\n\u001b[0;32m----> 5\u001b[0m \u001b[43mnorm_layer_wide\u001b[49m\u001b[38;5;241;43m.\u001b[39;49m\u001b[43madapt\u001b[49m\u001b[43m(\u001b[49m\u001b[43mX_train_wide\u001b[49m\u001b[43m)\u001b[49m\n\u001b[1;32m      6\u001b[0m norm_layer_deep\u001b[38;5;241m.\u001b[39madapt(X_train_deep)\n\u001b[1;32m      7\u001b[0m history \u001b[38;5;241m=\u001b[39m model\u001b[38;5;241m.\u001b[39mfit((X_train_wide, X_train_deep), y_train, epochs\u001b[38;5;241m=\u001b[39m\u001b[38;5;241m20\u001b[39m,\n\u001b[1;32m      8\u001b[0m validation_data\u001b[38;5;241m=\u001b[39m((X_valid_wide, X_valid_deep), y_valid))\n",
      "File \u001b[0;32m~/anaconda3/envs/tf/lib/python3.9/site-packages/keras/layers/preprocessing/normalization.py:286\u001b[0m, in \u001b[0;36mNormalization.adapt\u001b[0;34m(self, data, batch_size, steps)\u001b[0m\n\u001b[1;32m    240\u001b[0m \u001b[38;5;28;01mdef\u001b[39;00m \u001b[38;5;21madapt\u001b[39m(\u001b[38;5;28mself\u001b[39m, data, batch_size\u001b[38;5;241m=\u001b[39m\u001b[38;5;28;01mNone\u001b[39;00m, steps\u001b[38;5;241m=\u001b[39m\u001b[38;5;28;01mNone\u001b[39;00m):\n\u001b[1;32m    241\u001b[0m     \u001b[38;5;124;03m\"\"\"Computes the mean and variance of values in a dataset.\u001b[39;00m\n\u001b[1;32m    242\u001b[0m \n\u001b[1;32m    243\u001b[0m \u001b[38;5;124;03m    Calling `adapt()` on a `Normalization` layer is an alternative to\u001b[39;00m\n\u001b[0;32m   (...)\u001b[0m\n\u001b[1;32m    284\u001b[0m \u001b[38;5;124;03m          argument is not supported with array inputs.\u001b[39;00m\n\u001b[1;32m    285\u001b[0m \u001b[38;5;124;03m    \"\"\"\u001b[39;00m\n\u001b[0;32m--> 286\u001b[0m     \u001b[38;5;28;43msuper\u001b[39;49m\u001b[43m(\u001b[49m\u001b[43m)\u001b[49m\u001b[38;5;241;43m.\u001b[39;49m\u001b[43madapt\u001b[49m\u001b[43m(\u001b[49m\u001b[43mdata\u001b[49m\u001b[43m,\u001b[49m\u001b[43m \u001b[49m\u001b[43mbatch_size\u001b[49m\u001b[38;5;241;43m=\u001b[39;49m\u001b[43mbatch_size\u001b[49m\u001b[43m,\u001b[49m\u001b[43m \u001b[49m\u001b[43msteps\u001b[49m\u001b[38;5;241;43m=\u001b[39;49m\u001b[43msteps\u001b[49m\u001b[43m)\u001b[49m\n",
      "File \u001b[0;32m~/anaconda3/envs/tf/lib/python3.9/site-packages/keras/engine/base_preprocessing_layer.py:258\u001b[0m, in \u001b[0;36mPreprocessingLayer.adapt\u001b[0;34m(self, data, batch_size, steps)\u001b[0m\n\u001b[1;32m    256\u001b[0m \u001b[38;5;28;01mwith\u001b[39;00m data_handler\u001b[38;5;241m.\u001b[39mcatch_stop_iteration():\n\u001b[1;32m    257\u001b[0m     \u001b[38;5;28;01mfor\u001b[39;00m _ \u001b[38;5;129;01min\u001b[39;00m data_handler\u001b[38;5;241m.\u001b[39msteps():\n\u001b[0;32m--> 258\u001b[0m         \u001b[38;5;28;43mself\u001b[39;49m\u001b[38;5;241;43m.\u001b[39;49m\u001b[43m_adapt_function\u001b[49m\u001b[43m(\u001b[49m\u001b[43miterator\u001b[49m\u001b[43m)\u001b[49m\n\u001b[1;32m    259\u001b[0m         \u001b[38;5;28;01mif\u001b[39;00m data_handler\u001b[38;5;241m.\u001b[39mshould_sync:\n\u001b[1;32m    260\u001b[0m             context\u001b[38;5;241m.\u001b[39masync_wait()\n",
      "File \u001b[0;32m~/anaconda3/envs/tf/lib/python3.9/site-packages/tensorflow/python/util/traceback_utils.py:153\u001b[0m, in \u001b[0;36mfilter_traceback.<locals>.error_handler\u001b[0;34m(*args, **kwargs)\u001b[0m\n\u001b[1;32m    151\u001b[0m \u001b[38;5;28;01mexcept\u001b[39;00m \u001b[38;5;167;01mException\u001b[39;00m \u001b[38;5;28;01mas\u001b[39;00m e:\n\u001b[1;32m    152\u001b[0m   filtered_tb \u001b[38;5;241m=\u001b[39m _process_traceback_frames(e\u001b[38;5;241m.\u001b[39m__traceback__)\n\u001b[0;32m--> 153\u001b[0m   \u001b[38;5;28;01mraise\u001b[39;00m e\u001b[38;5;241m.\u001b[39mwith_traceback(filtered_tb) \u001b[38;5;28;01mfrom\u001b[39;00m \u001b[38;5;28mNone\u001b[39m\n\u001b[1;32m    154\u001b[0m \u001b[38;5;28;01mfinally\u001b[39;00m:\n\u001b[1;32m    155\u001b[0m   \u001b[38;5;28;01mdel\u001b[39;00m filtered_tb\n",
      "File \u001b[0;32m/tmp/__autograph_generated_fileaeg7q4x6.py:11\u001b[0m, in \u001b[0;36mouter_factory.<locals>.inner_factory.<locals>.tf__adapt_step\u001b[0;34m(iterator)\u001b[0m\n\u001b[1;32m      9\u001b[0m data \u001b[38;5;241m=\u001b[39m ag__\u001b[38;5;241m.\u001b[39mconverted_call(ag__\u001b[38;5;241m.\u001b[39mld(\u001b[38;5;28mnext\u001b[39m), (ag__\u001b[38;5;241m.\u001b[39mld(iterator),), \u001b[38;5;28;01mNone\u001b[39;00m, fscope)\n\u001b[1;32m     10\u001b[0m ag__\u001b[38;5;241m.\u001b[39mconverted_call(ag__\u001b[38;5;241m.\u001b[39mld(\u001b[38;5;28mself\u001b[39m)\u001b[38;5;241m.\u001b[39m_adapt_maybe_build, (ag__\u001b[38;5;241m.\u001b[39mld(data),), \u001b[38;5;28;01mNone\u001b[39;00m, fscope)\n\u001b[0;32m---> 11\u001b[0m ag__\u001b[38;5;241m.\u001b[39mconverted_call(ag__\u001b[38;5;241m.\u001b[39mld(\u001b[38;5;28mself\u001b[39m)\u001b[38;5;241m.\u001b[39mupdate_state, (ag__\u001b[38;5;241m.\u001b[39mld(data),), \u001b[38;5;28;01mNone\u001b[39;00m, fscope)\n",
      "File \u001b[0;32m~/anaconda3/envs/tf/lib/python3.9/site-packages/keras/layers/preprocessing/normalization.py:318\u001b[0m, in \u001b[0;36mNormalization.update_state\u001b[0;34m(self, data)\u001b[0m\n\u001b[1;32m    312\u001b[0m batch_weight \u001b[38;5;241m=\u001b[39m tf\u001b[38;5;241m.\u001b[39mcast(batch_count, dtype\u001b[38;5;241m=\u001b[39m\u001b[38;5;28mself\u001b[39m\u001b[38;5;241m.\u001b[39mcompute_dtype) \u001b[38;5;241m/\u001b[39m tf\u001b[38;5;241m.\u001b[39mcast(\n\u001b[1;32m    313\u001b[0m     total_count, dtype\u001b[38;5;241m=\u001b[39m\u001b[38;5;28mself\u001b[39m\u001b[38;5;241m.\u001b[39mcompute_dtype\n\u001b[1;32m    314\u001b[0m )\n\u001b[1;32m    315\u001b[0m existing_weight \u001b[38;5;241m=\u001b[39m \u001b[38;5;241m1.0\u001b[39m \u001b[38;5;241m-\u001b[39m batch_weight\n\u001b[1;32m    317\u001b[0m total_mean \u001b[38;5;241m=\u001b[39m (\n\u001b[0;32m--> 318\u001b[0m     \u001b[38;5;28;43mself\u001b[39;49m\u001b[38;5;241;43m.\u001b[39;49m\u001b[43madapt_mean\u001b[49m\u001b[43m \u001b[49m\u001b[38;5;241;43m*\u001b[39;49m\u001b[43m \u001b[49m\u001b[43mexisting_weight\u001b[49m\u001b[43m \u001b[49m\u001b[38;5;241;43m+\u001b[39;49m\u001b[43m \u001b[49m\u001b[43mbatch_mean\u001b[49m\u001b[43m \u001b[49m\u001b[38;5;241;43m*\u001b[39;49m\u001b[43m \u001b[49m\u001b[43mbatch_weight\u001b[49m\n\u001b[1;32m    319\u001b[0m )\n\u001b[1;32m    320\u001b[0m \u001b[38;5;66;03m# The variance is computed using the lack-of-fit sum of squares\u001b[39;00m\n\u001b[1;32m    321\u001b[0m \u001b[38;5;66;03m# formula (see\u001b[39;00m\n\u001b[1;32m    322\u001b[0m \u001b[38;5;66;03m# https://en.wikipedia.org/wiki/Lack-of-fit_sum_of_squares).\u001b[39;00m\n\u001b[1;32m    323\u001b[0m total_variance \u001b[38;5;241m=\u001b[39m (\n\u001b[1;32m    324\u001b[0m     \u001b[38;5;28mself\u001b[39m\u001b[38;5;241m.\u001b[39madapt_variance \u001b[38;5;241m+\u001b[39m (\u001b[38;5;28mself\u001b[39m\u001b[38;5;241m.\u001b[39madapt_mean \u001b[38;5;241m-\u001b[39m total_mean) \u001b[38;5;241m*\u001b[39m\u001b[38;5;241m*\u001b[39m \u001b[38;5;241m2\u001b[39m\n\u001b[1;32m    325\u001b[0m ) \u001b[38;5;241m*\u001b[39m existing_weight \u001b[38;5;241m+\u001b[39m (\n\u001b[1;32m    326\u001b[0m     batch_variance \u001b[38;5;241m+\u001b[39m (batch_mean \u001b[38;5;241m-\u001b[39m total_mean) \u001b[38;5;241m*\u001b[39m\u001b[38;5;241m*\u001b[39m \u001b[38;5;241m2\u001b[39m\n\u001b[1;32m    327\u001b[0m ) \u001b[38;5;241m*\u001b[39m batch_weight\n",
      "\u001b[0;31mValueError\u001b[0m: in user code:\n\n    File \"/home/krish/anaconda3/envs/tf/lib/python3.9/site-packages/keras/engine/base_preprocessing_layer.py\", line 123, in adapt_step  *\n        self.update_state(data)\n    File \"/home/krish/anaconda3/envs/tf/lib/python3.9/site-packages/keras/layers/preprocessing/normalization.py\", line 318, in update_state  **\n        self.adapt_mean * existing_weight + batch_mean * batch_weight\n\n    ValueError: Dimensions must be equal, but are 5 and 28 for '{{node add_1}} = AddV2[T=DT_FLOAT](mul, mul_1)' with input shapes: [5], [5,28].\n"
     ]
    }
   ],
   "source": [
    "X_train_wide, X_train_deep = X_train[:, :5], X_train[:, 2:]\n",
    "X_valid_wide, X_valid_deep = X_valid[:, :5], X_valid[:, 2:]\n",
    "X_test_wide, X_test_deep = X_test[:, :5], X_test[:, 2:]\n",
    "X_new_wide, X_new_deep = X_test_wide[:3], X_test_deep[:3]\n",
    "norm_layer_wide.adapt(X_train_wide)\n",
    "norm_layer_deep.adapt(X_train_deep)\n",
    "history = model.fit((X_train_wide, X_train_deep), y_train, epochs=20,\n",
    "validation_data=((X_valid_wide, X_valid_deep), y_valid))\n",
    "mse_test = model.evaluate((X_test_wide, X_test_deep), y_test)\n",
    "y_pred = model.predict((X_new_wide, X_new_deep))"
   ]
  },
  {
   "cell_type": "code",
   "execution_count": null,
   "id": "124eec02-d313-4565-895d-10e471ba23d0",
   "metadata": {},
   "outputs": [],
   "source": []
  },
  {
   "cell_type": "code",
   "execution_count": null,
   "id": "9ed1d18f-b728-4475-ad80-3daf39c2f252",
   "metadata": {},
   "outputs": [],
   "source": []
  },
  {
   "cell_type": "code",
   "execution_count": null,
   "id": "3ba4c53e-cb66-4e51-bc79-ab47251817fd",
   "metadata": {},
   "outputs": [],
   "source": []
  }
 ],
 "metadata": {
  "kernelspec": {
   "display_name": "Python 3 (ipykernel)",
   "language": "python",
   "name": "python3"
  },
  "language_info": {
   "codemirror_mode": {
    "name": "ipython",
    "version": 3
   },
   "file_extension": ".py",
   "mimetype": "text/x-python",
   "name": "python",
   "nbconvert_exporter": "python",
   "pygments_lexer": "ipython3",
   "version": "3.9.15"
  }
 },
 "nbformat": 4,
 "nbformat_minor": 5
}
