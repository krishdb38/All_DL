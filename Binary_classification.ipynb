{
 "cells": [
  {
   "cell_type": "code",
   "execution_count": 12,
   "id": "3b1ba545",
   "metadata": {},
   "outputs": [],
   "source": [
    "import pandas as pd\n",
    "from tensorflow import keras\n",
    "from sklearn.model_selection import train_test_split\n",
    "import numpy as np\n",
    "import tensorflow as tf"
   ]
  },
  {
   "cell_type": "code",
   "execution_count": 2,
   "id": "1dcd84d3",
   "metadata": {},
   "outputs": [
    {
     "data": {
      "text/html": [
       "<div>\n",
       "<style scoped>\n",
       "    .dataframe tbody tr th:only-of-type {\n",
       "        vertical-align: middle;\n",
       "    }\n",
       "\n",
       "    .dataframe tbody tr th {\n",
       "        vertical-align: top;\n",
       "    }\n",
       "\n",
       "    .dataframe thead th {\n",
       "        text-align: right;\n",
       "    }\n",
       "</style>\n",
       "<table border=\"1\" class=\"dataframe\">\n",
       "  <thead>\n",
       "    <tr style=\"text-align: right;\">\n",
       "      <th></th>\n",
       "      <th>prop_1</th>\n",
       "      <th>prop_2</th>\n",
       "      <th>prop_3</th>\n",
       "      <th>prop_4</th>\n",
       "      <th>Activity</th>\n",
       "    </tr>\n",
       "  </thead>\n",
       "  <tbody>\n",
       "    <tr>\n",
       "      <th>0</th>\n",
       "      <td>4.06</td>\n",
       "      <td>71.01</td>\n",
       "      <td>57.2</td>\n",
       "      <td>5.82</td>\n",
       "      <td>1</td>\n",
       "    </tr>\n",
       "    <tr>\n",
       "      <th>1</th>\n",
       "      <td>3.63</td>\n",
       "      <td>65.62</td>\n",
       "      <td>52.68</td>\n",
       "      <td>5.44</td>\n",
       "      <td>1</td>\n",
       "    </tr>\n",
       "    <tr>\n",
       "      <th>2</th>\n",
       "      <td>3.63</td>\n",
       "      <td>68.90</td>\n",
       "      <td>58.29</td>\n",
       "      <td>6.06</td>\n",
       "      <td>1</td>\n",
       "    </tr>\n",
       "    <tr>\n",
       "      <th>3</th>\n",
       "      <td>4.11</td>\n",
       "      <td>75.59</td>\n",
       "      <td>62.81</td>\n",
       "      <td>6.44</td>\n",
       "      <td>1</td>\n",
       "    </tr>\n",
       "    <tr>\n",
       "      <th>4</th>\n",
       "      <td>4.00</td>\n",
       "      <td>70.86</td>\n",
       "      <td>58.05</td>\n",
       "      <td>6.06</td>\n",
       "      <td>1</td>\n",
       "    </tr>\n",
       "  </tbody>\n",
       "</table>\n",
       "</div>"
      ],
      "text/plain": [
       "   prop_1  prop_2 prop_3  prop_4  Activity\n",
       "0    4.06   71.01   57.2    5.82         1\n",
       "1    3.63   65.62  52.68    5.44         1\n",
       "2    3.63   68.90  58.29    6.06         1\n",
       "3    4.11   75.59  62.81    6.44         1\n",
       "4    4.00   70.86  58.05    6.06         1"
      ]
     },
     "execution_count": 2,
     "metadata": {},
     "output_type": "execute_result"
    }
   ],
   "source": [
    "df = pd.read_csv('datas/molecular_activity.txt')\n",
    "df.head()"
   ]
  },
  {
   "cell_type": "code",
   "execution_count": 34,
   "id": "9ba0a171",
   "metadata": {},
   "outputs": [
    {
     "data": {
      "text/html": [
       "<div>\n",
       "<style scoped>\n",
       "    .dataframe tbody tr th:only-of-type {\n",
       "        vertical-align: middle;\n",
       "    }\n",
       "\n",
       "    .dataframe tbody tr th {\n",
       "        vertical-align: top;\n",
       "    }\n",
       "\n",
       "    .dataframe thead th {\n",
       "        text-align: right;\n",
       "    }\n",
       "</style>\n",
       "<table border=\"1\" class=\"dataframe\">\n",
       "  <thead>\n",
       "    <tr style=\"text-align: right;\">\n",
       "      <th></th>\n",
       "      <th>prop_1</th>\n",
       "      <th>prop_2</th>\n",
       "      <th>prop_3</th>\n",
       "      <th>prop_4</th>\n",
       "      <th>Activity</th>\n",
       "    </tr>\n",
       "  </thead>\n",
       "  <tbody>\n",
       "    <tr>\n",
       "      <th>535</th>\n",
       "      <td>5.289450</td>\n",
       "      <td>49.043544</td>\n",
       "      <td>40.46577</td>\n",
       "      <td>4.111193</td>\n",
       "      <td>1</td>\n",
       "    </tr>\n",
       "    <tr>\n",
       "      <th>536</th>\n",
       "      <td>5.703150</td>\n",
       "      <td>50.957793</td>\n",
       "      <td>44.165036</td>\n",
       "      <td>4.620044</td>\n",
       "      <td>1</td>\n",
       "    </tr>\n",
       "    <tr>\n",
       "      <th>537</th>\n",
       "      <td>5.895225</td>\n",
       "      <td>53.324354</td>\n",
       "      <td>44.116574</td>\n",
       "      <td>4.418119</td>\n",
       "      <td>1</td>\n",
       "    </tr>\n",
       "    <tr>\n",
       "      <th>538</th>\n",
       "      <td>5.880450</td>\n",
       "      <td>52.831657</td>\n",
       "      <td>44.165036</td>\n",
       "      <td>4.620044</td>\n",
       "      <td>1</td>\n",
       "    </tr>\n",
       "    <tr>\n",
       "      <th>539</th>\n",
       "      <td>5.836125</td>\n",
       "      <td>52.694348</td>\n",
       "      <td>48.098535</td>\n",
       "      <td>4.418119</td>\n",
       "      <td>1</td>\n",
       "    </tr>\n",
       "  </tbody>\n",
       "</table>\n",
       "</div>"
      ],
      "text/plain": [
       "       prop_1     prop_2     prop_3    prop_4  Activity\n",
       "535  5.289450  49.043544   40.46577  4.111193         1\n",
       "536  5.703150  50.957793  44.165036  4.620044         1\n",
       "537  5.895225  53.324354  44.116574  4.418119         1\n",
       "538  5.880450  52.831657  44.165036  4.620044         1\n",
       "539  5.836125  52.694348  48.098535  4.418119         1"
      ]
     },
     "execution_count": 34,
     "metadata": {},
     "output_type": "execute_result"
    }
   ],
   "source": [
    "df.tail()"
   ]
  },
  {
   "cell_type": "code",
   "execution_count": 36,
   "id": "c63c8644",
   "metadata": {},
   "outputs": [
    {
     "data": {
      "text/plain": [
       "prop_1      float64\n",
       "prop_2      float64\n",
       "prop_3       object\n",
       "prop_4      float64\n",
       "Activity      int64\n",
       "dtype: object"
      ]
     },
     "execution_count": 36,
     "metadata": {},
     "output_type": "execute_result"
    }
   ],
   "source": [
    "df.dtypes"
   ]
  },
  {
   "cell_type": "code",
   "execution_count": 39,
   "id": "6946f422",
   "metadata": {},
   "outputs": [
    {
     "data": {
      "text/html": [
       "<div>\n",
       "<style scoped>\n",
       "    .dataframe tbody tr th:only-of-type {\n",
       "        vertical-align: middle;\n",
       "    }\n",
       "\n",
       "    .dataframe tbody tr th {\n",
       "        vertical-align: top;\n",
       "    }\n",
       "\n",
       "    .dataframe thead th {\n",
       "        text-align: right;\n",
       "    }\n",
       "</style>\n",
       "<table border=\"1\" class=\"dataframe\">\n",
       "  <thead>\n",
       "    <tr style=\"text-align: right;\">\n",
       "      <th></th>\n",
       "      <th>prop_1</th>\n",
       "      <th>prop_2</th>\n",
       "      <th>prop_3</th>\n",
       "      <th>prop_4</th>\n",
       "      <th>Activity</th>\n",
       "    </tr>\n",
       "  </thead>\n",
       "  <tbody>\n",
       "    <tr>\n",
       "      <th>483</th>\n",
       "      <td>6.5184</td>\n",
       "      <td>60.29132</td>\n",
       "      <td>4 9.107996</td>\n",
       "      <td>5.122376</td>\n",
       "      <td>1</td>\n",
       "    </tr>\n",
       "  </tbody>\n",
       "</table>\n",
       "</div>"
      ],
      "text/plain": [
       "     prop_1    prop_2      prop_3    prop_4  Activity\n",
       "483  6.5184  60.29132  4 9.107996  5.122376         1"
      ]
     },
     "execution_count": 39,
     "metadata": {},
     "output_type": "execute_result"
    }
   ],
   "source": [
    "# prop_3 is object type so remove\n",
    "df[df[\"prop_3\"] == '4 9.107996']"
   ]
  },
  {
   "cell_type": "code",
   "execution_count": 41,
   "id": "c4c8bba3",
   "metadata": {},
   "outputs": [],
   "source": [
    "df = df.drop(483)"
   ]
  },
  {
   "cell_type": "code",
   "execution_count": 45,
   "id": "ff79eb22",
   "metadata": {},
   "outputs": [],
   "source": [
    "df[\"prop_3\"] = df[\"prop_3\"].astype(float)"
   ]
  },
  {
   "cell_type": "code",
   "execution_count": 48,
   "id": "0c6cb425",
   "metadata": {
    "scrolled": true
   },
   "outputs": [
    {
     "data": {
      "text/plain": [
       "['prop_1', 'prop_2', 'prop_3', 'prop_4', 'Activity']"
      ]
     },
     "execution_count": 48,
     "metadata": {},
     "output_type": "execute_result"
    }
   ],
   "source": [
    "df.columns.to_list()"
   ]
  },
  {
   "cell_type": "code",
   "execution_count": 49,
   "id": "67b42357",
   "metadata": {},
   "outputs": [],
   "source": [
    "# DIvide to x & y\n",
    "x_cols = ['prop_1', 'prop_2', 'prop_3', 'prop_4',]\n",
    "y_cols = [ 'Activity']\n",
    "x = df[x_cols].to_numpy()\n",
    "y = df[y_cols].to_numpy()#.ravel()"
   ]
  },
  {
   "cell_type": "code",
   "execution_count": 50,
   "id": "ad5e2e94",
   "metadata": {},
   "outputs": [
    {
     "data": {
      "text/plain": [
       "array([[ 4.06, 71.01, 57.2 ,  5.82],\n",
       "       [ 3.63, 65.62, 52.68,  5.44],\n",
       "       [ 3.63, 68.9 , 58.29,  6.06],\n",
       "       [ 4.11, 75.59, 62.81,  6.44],\n",
       "       [ 4.  , 70.86, 58.05,  6.06]])"
      ]
     },
     "execution_count": 50,
     "metadata": {},
     "output_type": "execute_result"
    }
   ],
   "source": [
    "x[:5]"
   ]
  },
  {
   "cell_type": "code",
   "execution_count": 51,
   "id": "2ceb97a7",
   "metadata": {},
   "outputs": [
    {
     "data": {
      "text/plain": [
       "array([[1],\n",
       "       [1],\n",
       "       [1],\n",
       "       [1],\n",
       "       [1]], dtype=int64)"
      ]
     },
     "execution_count": 51,
     "metadata": {},
     "output_type": "execute_result"
    }
   ],
   "source": [
    "y[:5]"
   ]
  },
  {
   "cell_type": "code",
   "execution_count": 53,
   "id": "184a18ea",
   "metadata": {},
   "outputs": [],
   "source": [
    "## Split to Train & Test \n",
    "from sklearn.model_selection import train_test_split\n",
    "x_train, x_test, y_train, y_test = train_test_split(x,y, test_size=0.3,\n",
    "                                                    random_state=42)"
   ]
  },
  {
   "cell_type": "code",
   "execution_count": 54,
   "id": "15c4ac62",
   "metadata": {},
   "outputs": [
    {
     "name": "stdout",
     "output_type": "stream",
     "text": [
      "Epoch 1/50\n",
      "377/377 [==============================] - 3s 6ms/step - loss: 0.6840 - accuracy: 0.6419\n",
      "Epoch 2/50\n",
      "377/377 [==============================] - 2s 6ms/step - loss: 0.6015 - accuracy: 0.7454\n",
      "Epoch 3/50\n",
      "377/377 [==============================] - 2s 6ms/step - loss: 0.6013 - accuracy: 0.7692\n",
      "Epoch 4/50\n",
      "377/377 [==============================] - 1s 2ms/step - loss: 0.5774 - accuracy: 0.7984\n",
      "Epoch 5/50\n",
      "377/377 [==============================] - 2s 6ms/step - loss: 0.5872 - accuracy: 0.7745\n",
      "Epoch 6/50\n",
      "377/377 [==============================] - 2s 6ms/step - loss: 0.5793 - accuracy: 0.7931\n",
      "Epoch 7/50\n",
      "377/377 [==============================] - 2s 6ms/step - loss: 0.5694 - accuracy: 0.7613\n",
      "Epoch 8/50\n",
      "377/377 [==============================] - 1s 2ms/step - loss: 0.5811 - accuracy: 0.7692\n",
      "Epoch 9/50\n",
      "377/377 [==============================] - 2s 6ms/step - loss: 0.5684 - accuracy: 0.7772\n",
      "Epoch 10/50\n",
      "377/377 [==============================] - 2s 6ms/step - loss: 0.5571 - accuracy: 0.7666\n",
      "Epoch 11/50\n",
      "377/377 [==============================] - 2s 6ms/step - loss: 0.5713 - accuracy: 0.7692\n",
      "Epoch 12/50\n",
      "377/377 [==============================] - 2s 6ms/step - loss: 0.5460 - accuracy: 0.7719\n",
      "Epoch 13/50\n",
      "377/377 [==============================] - 2s 6ms/step - loss: 0.5447 - accuracy: 0.8011\n",
      "Epoch 14/50\n",
      "377/377 [==============================] - 1s 2ms/step - loss: 0.5522 - accuracy: 0.7825\n",
      "Epoch 15/50\n",
      "377/377 [==============================] - 2s 6ms/step - loss: 0.5579 - accuracy: 0.7878\n",
      "Epoch 16/50\n",
      "377/377 [==============================] - 2s 6ms/step - loss: 0.5349 - accuracy: 0.7878\n",
      "Epoch 17/50\n",
      "377/377 [==============================] - 2s 6ms/step - loss: 0.5277 - accuracy: 0.7772\n",
      "Epoch 18/50\n",
      "377/377 [==============================] - 1s 2ms/step - loss: 0.5206 - accuracy: 0.7958\n",
      "Epoch 19/50\n",
      "377/377 [==============================] - 2s 6ms/step - loss: 0.5130 - accuracy: 0.7905\n",
      "Epoch 20/50\n",
      "377/377 [==============================] - 2s 6ms/step - loss: 0.5125 - accuracy: 0.7958\n",
      "Epoch 21/50\n",
      "377/377 [==============================] - 2s 6ms/step - loss: 0.5044 - accuracy: 0.7958\n",
      "Epoch 22/50\n",
      "377/377 [==============================] - 1s 2ms/step - loss: 0.4925 - accuracy: 0.8011\n",
      "Epoch 23/50\n",
      "377/377 [==============================] - 2s 6ms/step - loss: 0.5048 - accuracy: 0.7878\n",
      "Epoch 24/50\n",
      "377/377 [==============================] - 2s 6ms/step - loss: 0.4919 - accuracy: 0.8011\n",
      "Epoch 25/50\n",
      "377/377 [==============================] - 2s 6ms/step - loss: 0.4775 - accuracy: 0.8011\n",
      "Epoch 26/50\n",
      "377/377 [==============================] - 2s 6ms/step - loss: 0.4784 - accuracy: 0.7984\n",
      "Epoch 27/50\n",
      "377/377 [==============================] - 1s 2ms/step - loss: 0.4967 - accuracy: 0.7931\n",
      "Epoch 28/50\n",
      "377/377 [==============================] - 2s 6ms/step - loss: 0.4737 - accuracy: 0.7984\n",
      "Epoch 29/50\n",
      "377/377 [==============================] - 2s 6ms/step - loss: 0.4682 - accuracy: 0.8064\n",
      "Epoch 30/50\n",
      "377/377 [==============================] - 2s 6ms/step - loss: 0.4581 - accuracy: 0.7984\n",
      "Epoch 31/50\n",
      "377/377 [==============================] - 1s 2ms/step - loss: 0.4530 - accuracy: 0.8090\n",
      "Epoch 32/50\n",
      "377/377 [==============================] - 2s 6ms/step - loss: 0.4497 - accuracy: 0.8143\n",
      "Epoch 33/50\n",
      "377/377 [==============================] - 2s 6ms/step - loss: 0.4443 - accuracy: 0.8249\n",
      "Epoch 34/50\n",
      "377/377 [==============================] - 2s 6ms/step - loss: 0.4387 - accuracy: 0.8223\n",
      "Epoch 35/50\n",
      "377/377 [==============================] - 2s 6ms/step - loss: 0.4612 - accuracy: 0.7984\n",
      "Epoch 36/50\n",
      "377/377 [==============================] - 2s 6ms/step - loss: 0.4313 - accuracy: 0.8223\n",
      "Epoch 37/50\n",
      "377/377 [==============================] - 1s 2ms/step - loss: 0.4394 - accuracy: 0.8276\n",
      "Epoch 38/50\n",
      "377/377 [==============================] - 2s 6ms/step - loss: 0.4191 - accuracy: 0.8302\n",
      "Epoch 39/50\n",
      "377/377 [==============================] - 2s 6ms/step - loss: 0.4302 - accuracy: 0.8223\n",
      "Epoch 40/50\n",
      "377/377 [==============================] - 2s 6ms/step - loss: 0.4466 - accuracy: 0.8090\n",
      "Epoch 41/50\n",
      "377/377 [==============================] - 2s 6ms/step - loss: 0.4310 - accuracy: 0.8196\n",
      "Epoch 42/50\n",
      "377/377 [==============================] - 1s 2ms/step - loss: 0.4309 - accuracy: 0.8170\n",
      "Epoch 43/50\n",
      "377/377 [==============================] - 2s 6ms/step - loss: 0.4260 - accuracy: 0.8302\n",
      "Epoch 44/50\n",
      "377/377 [==============================] - 2s 6ms/step - loss: 0.4153 - accuracy: 0.8117\n",
      "Epoch 45/50\n",
      "377/377 [==============================] - 2s 6ms/step - loss: 0.4258 - accuracy: 0.8117\n",
      "Epoch 46/50\n",
      "377/377 [==============================] - 2s 6ms/step - loss: 0.4086 - accuracy: 0.8249\n",
      "Epoch 47/50\n",
      "377/377 [==============================] - 1s 2ms/step - loss: 0.4261 - accuracy: 0.7958\n",
      "Epoch 48/50\n",
      "377/377 [==============================] - 2s 6ms/step - loss: 0.4139 - accuracy: 0.8329\n",
      "Epoch 49/50\n",
      "377/377 [==============================] - 2s 6ms/step - loss: 0.4122 - accuracy: 0.8329\n",
      "Epoch 50/50\n",
      "377/377 [==============================] - 2s 6ms/step - loss: 0.4098 - accuracy: 0.8196\n"
     ]
    },
    {
     "data": {
      "text/plain": [
       "<keras.callbacks.History at 0x28b248153a0>"
      ]
     },
     "execution_count": 54,
     "metadata": {},
     "output_type": "execute_result"
    }
   ],
   "source": [
    "## Fitting Model without Sc\n",
    "model = keras.Sequential([\n",
    "    keras.layers.Flatten(input_shape = (4,)),\n",
    "    keras.layers.Dense(16,activation = tf.nn.relu),\n",
    "    keras.layers.Dense(16, activation = tf.nn.relu),\n",
    "    keras.layers.Dense(1, activation = tf.nn.sigmoid)\n",
    "])\n",
    "\n",
    "model.compile(optimizer=\"adam\",\n",
    "             loss = \"binary_crossentropy\",\n",
    "             metrics = [\"accuracy\"])\n",
    "\n",
    "model.fit(x_train, y_train, epochs=50, batch_size = 1)\n"
   ]
  },
  {
   "cell_type": "code",
   "execution_count": 56,
   "id": "c1a7e5b5",
   "metadata": {},
   "outputs": [
    {
     "name": "stdout",
     "output_type": "stream",
     "text": [
      "[[0.71447426]]\n"
     ]
    }
   ],
   "source": [
    "a= np.array([[4.02,70.86,62.05,7.0]])\n",
    "print(model.predict(a))"
   ]
  }
 ],
 "metadata": {
  "kernelspec": {
   "display_name": "Python 3 (ipykernel)",
   "language": "python",
   "name": "python3"
  },
  "language_info": {
   "codemirror_mode": {
    "name": "ipython",
    "version": 3
   },
   "file_extension": ".py",
   "mimetype": "text/x-python",
   "name": "python",
   "nbconvert_exporter": "python",
   "pygments_lexer": "ipython3",
   "version": "3.9.7"
  }
 },
 "nbformat": 4,
 "nbformat_minor": 5
}
