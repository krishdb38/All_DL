{
 "cells": [
  {
   "cell_type": "code",
   "execution_count": 1,
   "id": "36b54015",
   "metadata": {},
   "outputs": [],
   "source": [
    "# https://medium.com/@mzia.bese19seecs/complete-guide-to-autokeras-745340d0fe40"
   ]
  },
  {
   "cell_type": "markdown",
   "id": "cc1c6b8f",
   "metadata": {},
   "source": [
    "## Image Classification / Regression"
   ]
  },
  {
   "cell_type": "code",
   "execution_count": 12,
   "id": "a7c3db0b",
   "metadata": {},
   "outputs": [],
   "source": [
    "import tensorflow as tf\n",
    "import numpy as np\n",
    "import pandas as pd\n",
    "\n",
    "\n",
    "from tensorflow.keras.datasets import mnist\n",
    "import autokeras as ak\n",
    "\n",
    "import matplotlib.pyplot as plt"
   ]
  },
  {
   "cell_type": "code",
   "execution_count": 3,
   "id": "5c7a9aa8",
   "metadata": {},
   "outputs": [
    {
     "name": "stdout",
     "output_type": "stream",
     "text": [
      "Downloading data from https://storage.googleapis.com/tensorflow/tf-keras-datasets/mnist.npz\n",
      "11493376/11490434 [==============================] - 2s 0us/step\n"
     ]
    }
   ],
   "source": [
    "# laod data\n",
    "(x_train, y_train), (x_test, y_test) = mnist.load_data()"
   ]
  },
  {
   "cell_type": "code",
   "execution_count": 9,
   "id": "2a20dd63",
   "metadata": {},
   "outputs": [
    {
     "data": {
      "image/png": "[encoded data removed]",
      "text/plain": [
       "<Figure size 432x288 with 1 Axes>"
      ]
     },
     "metadata": {
      "needs_background": "light"
     },
     "output_type": "display_data"
    }
   ],
   "source": [
    "plt.imshow(x_train[0]) \n",
    "plt.show()"
   ]
  },
  {
   "cell_type": "code",
   "execution_count": 10,
   "id": "89da3f76",
   "metadata": {},
   "outputs": [
    {
     "data": {
      "text/plain": [
       "5"
      ]
     },
     "execution_count": 10,
     "metadata": {},
     "output_type": "execute_result"
    }
   ],
   "source": [
    "y_train[0]"
   ]
  },
  {
   "cell_type": "markdown",
   "id": "c8430fa1",
   "metadata": {},
   "source": [
    "## convert y to numerical different class"
   ]
  },
  {
   "cell_type": "code",
   "execution_count": 13,
   "id": "d4209695",
   "metadata": {},
   "outputs": [],
   "source": [
    "# we use pandas dummy files\n",
    "y_train, y_test = pd.get_dummies(y_train).values, pd.get_dummies(y_test)"
   ]
  },
  {
   "cell_type": "markdown",
   "id": "25b338bf",
   "metadata": {},
   "source": [
    "### we use auto keras ImageClassifier"
   ]
  },
  {
   "cell_type": "code",
   "execution_count": 16,
   "id": "d2ad726f",
   "metadata": {},
   "outputs": [],
   "source": [
    "clf = ak.ImageClassifier(overwrite=True, max_trials=3) # in real increase max_trials"
   ]
  },
  {
   "cell_type": "code",
   "execution_count": 18,
   "id": "3863ce9c",
   "metadata": {},
   "outputs": [],
   "source": [
    "# clf.fit(x_train, y_train, epochs=10) # in real avoid epochs also let auto keras find the best"
   ]
  },
  {
   "cell_type": "code",
   "execution_count": 20,
   "id": "c65e2427",
   "metadata": {},
   "outputs": [],
   "source": [
    "## predict with the best model\n",
    "# predicted_y = clf.predict(x_test)\n",
    "# print(predicted_y)\n",
    "# Evaluate the best model with testing data.\n",
    "# print(clf.evaluate(x_test, y_test))"
   ]
  },
  {
   "cell_type": "markdown",
   "id": "8deeb10d",
   "metadata": {},
   "source": [
    "## Structure Data Classification / Regression"
   ]
  },
  {
   "cell_type": "code",
   "execution_count": 21,
   "id": "2087c501",
   "metadata": {},
   "outputs": [],
   "source": [
    "from sklearn.model_selection import train_test_split\n",
    "\n",
    "# import data sets\n",
    "from sklearn.datasets import load_iris\n",
    "\n",
    "data = load_iris() \n"
   ]
  },
  {
   "cell_type": "code",
   "execution_count": 26,
   "id": "fb437d96",
   "metadata": {},
   "outputs": [],
   "source": [
    "x = data.data\n",
    "y = pd.get_dummies(data.target).values"
   ]
  },
  {
   "cell_type": "code",
   "execution_count": 27,
   "id": "4c056f92",
   "metadata": {},
   "outputs": [
    {
     "data": {
      "text/plain": [
       "array([1, 0, 0], dtype=uint8)"
      ]
     },
     "execution_count": 27,
     "metadata": {},
     "output_type": "execute_result"
    }
   ],
   "source": [
    "y[0]"
   ]
  },
  {
   "cell_type": "code",
   "execution_count": 28,
   "id": "f5b48810",
   "metadata": {},
   "outputs": [],
   "source": [
    "x_train , x_test, y_train, y_test = train_test_split(x,y,test_size=0.3)"
   ]
  },
  {
   "cell_type": "code",
   "execution_count": null,
   "id": "b20a697e",
   "metadata": {},
   "outputs": [
    {
     "name": "stdout",
     "output_type": "stream",
     "text": [
      "Trial 1 Complete [00h 03m 07s]\n",
      "val_accuracy: 1.0\n",
      "\n",
      "Best val_accuracy So Far: 1.0\n",
      "Total elapsed time: 00h 03m 07s\n",
      "\n",
      "Search: Running Trial #2\n",
      "\n",
      "Hyperparameter    |Value             |Best Value So Far \n",
      "structured_data...|True              |True              \n",
      "structured_data...|False             |False             \n",
      "structured_data...|2                 |2                 \n",
      "structured_data...|32                |32                \n",
      "structured_data...|0                 |0                 \n",
      "structured_data...|32                |32                \n",
      "classification_...|0                 |0                 \n",
      "optimizer         |adam              |adam              \n",
      "learning_rate     |0.001             |0.001             \n",
      "\n",
      "Epoch 1/1000\n",
      "3/3 [==============================] - 0s 59ms/step - loss: 1.1965 - accuracy: 0.2604 - val_loss: 1.0912 - val_accuracy: 0.4444\n",
      "Epoch 2/1000\n",
      "3/3 [==============================] - 0s 18ms/step - loss: 1.1515 - accuracy: 0.3854 - val_loss: 1.0629 - val_accuracy: 0.5556\n",
      "Epoch 3/1000\n",
      "3/3 [==============================] - 0s 18ms/step - loss: 1.1083 - accuracy: 0.4271 - val_loss: 1.0371 - val_accuracy: 0.6667\n",
      "Epoch 4/1000\n",
      "3/3 [==============================] - 0s 16ms/step - loss: 1.0666 - accuracy: 0.4792 - val_loss: 1.0112 - val_accuracy: 0.6667\n",
      "Epoch 5/1000\n",
      "3/3 [==============================] - 0s 17ms/step - loss: 1.0264 - accuracy: 0.5312 - val_loss: 0.9851 - val_accuracy: 0.7778\n",
      "Epoch 6/1000\n",
      "3/3 [==============================] - 0s 16ms/step - loss: 0.9879 - accuracy: 0.5833 - val_loss: 0.9593 - val_accuracy: 0.6667\n",
      "Epoch 7/1000\n",
      "3/3 [==============================] - 0s 17ms/step - loss: 0.9503 - accuracy: 0.7083 - val_loss: 0.9353 - val_accuracy: 0.7778\n",
      "Epoch 8/1000\n",
      "3/3 [==============================] - 0s 19ms/step - loss: 0.9137 - accuracy: 0.7812 - val_loss: 0.9115 - val_accuracy: 0.7778\n",
      "Epoch 9/1000\n",
      "3/3 [==============================] - 0s 18ms/step - loss: 0.8781 - accuracy: 0.7917 - val_loss: 0.8879 - val_accuracy: 0.7778\n",
      "Epoch 10/1000\n",
      "3/3 [==============================] - 0s 17ms/step - loss: 0.8433 - accuracy: 0.8125 - val_loss: 0.8643 - val_accuracy: 0.7778\n",
      "Epoch 11/1000\n",
      "3/3 [==============================] - 0s 16ms/step - loss: 0.8091 - accuracy: 0.8229 - val_loss: 0.8408 - val_accuracy: 0.7778\n",
      "Epoch 12/1000\n",
      "3/3 [==============================] - 0s 17ms/step - loss: 0.7757 - accuracy: 0.8125 - val_loss: 0.8176 - val_accuracy: 0.7778\n",
      "Epoch 13/1000\n",
      "3/3 [==============================] - 0s 17ms/step - loss: 0.7433 - accuracy: 0.7917 - val_loss: 0.7948 - val_accuracy: 0.7778\n",
      "Epoch 14/1000\n",
      "3/3 [==============================] - 0s 17ms/step - loss: 0.7119 - accuracy: 0.7917 - val_loss: 0.7725 - val_accuracy: 0.6667\n",
      "Epoch 15/1000\n",
      "3/3 [==============================] - 0s 18ms/step - loss: 0.6817 - accuracy: 0.8229 - val_loss: 0.7507 - val_accuracy: 0.6667\n",
      "Epoch 16/1000\n",
      "3/3 [==============================] - 0s 17ms/step - loss: 0.6528 - accuracy: 0.8333 - val_loss: 0.7296 - val_accuracy: 0.6667\n",
      "Epoch 17/1000\n",
      "3/3 [==============================] - 0s 19ms/step - loss: 0.6253 - accuracy: 0.8333 - val_loss: 0.7090 - val_accuracy: 0.6667\n",
      "Epoch 18/1000\n",
      "3/3 [==============================] - 0s 16ms/step - loss: 0.5994 - accuracy: 0.8333 - val_loss: 0.6893 - val_accuracy: 0.6667\n",
      "Epoch 19/1000\n",
      "3/3 [==============================] - 0s 17ms/step - loss: 0.5752 - accuracy: 0.8333 - val_loss: 0.6706 - val_accuracy: 0.6667\n",
      "Epoch 20/1000\n",
      "3/3 [==============================] - 0s 16ms/step - loss: 0.5525 - accuracy: 0.8333 - val_loss: 0.6525 - val_accuracy: 0.6667\n",
      "Epoch 21/1000\n",
      "3/3 [==============================] - 0s 19ms/step - loss: 0.5314 - accuracy: 0.8333 - val_loss: 0.6352 - val_accuracy: 0.6667\n",
      "Epoch 22/1000\n",
      "3/3 [==============================] - 0s 16ms/step - loss: 0.5118 - accuracy: 0.8333 - val_loss: 0.6184 - val_accuracy: 0.6667\n",
      "Epoch 23/1000\n",
      "3/3 [==============================] - ETA: 0s - loss: 0.4608 - accuracy: 0.84 - 0s 17ms/step - loss: 0.4938 - accuracy: 0.8333 - val_loss: 0.6024 - val_accuracy: 0.6667\n",
      "Epoch 24/1000\n",
      "3/3 [==============================] - 0s 16ms/step - loss: 0.4771 - accuracy: 0.8333 - val_loss: 0.5873 - val_accuracy: 0.6667\n",
      "Epoch 25/1000\n",
      "3/3 [==============================] - 0s 16ms/step - loss: 0.4617 - accuracy: 0.8333 - val_loss: 0.5731 - val_accuracy: 0.6667\n",
      "Epoch 26/1000\n",
      "3/3 [==============================] - 0s 17ms/step - loss: 0.4475 - accuracy: 0.8333 - val_loss: 0.5595 - val_accuracy: 0.6667\n",
      "Epoch 27/1000\n",
      "3/3 [==============================] - 0s 18ms/step - loss: 0.4343 - accuracy: 0.8333 - val_loss: 0.5465 - val_accuracy: 0.7778\n",
      "Epoch 28/1000\n",
      "3/3 [==============================] - 0s 21ms/step - loss: 0.4221 - accuracy: 0.8333 - val_loss: 0.5341 - val_accuracy: 0.7778\n",
      "Epoch 29/1000\n",
      "3/3 [==============================] - 0s 16ms/step - loss: 0.4107 - accuracy: 0.8333 - val_loss: 0.5219 - val_accuracy: 0.7778\n",
      "Epoch 30/1000\n",
      "3/3 [==============================] - 0s 18ms/step - loss: 0.4001 - accuracy: 0.8333 - val_loss: 0.5103 - val_accuracy: 0.7778\n",
      "Epoch 31/1000\n",
      "3/3 [==============================] - 0s 16ms/step - loss: 0.3903 - accuracy: 0.8438 - val_loss: 0.4994 - val_accuracy: 0.7778\n",
      "Epoch 32/1000\n",
      "3/3 [==============================] - 0s 16ms/step - loss: 0.3812 - accuracy: 0.8438 - val_loss: 0.4891 - val_accuracy: 0.7778\n",
      "Epoch 33/1000\n",
      "1/3 [=========>....................] - ETA: 0s - loss: 0.3478 - accuracy: 0.8438"
     ]
    }
   ],
   "source": [
    "## Applying Auto Keras\n",
    "model = ak.StructuredDataClassifier(max_trials=10) # in real dont forget to increase max as u can wait\n",
    "model.fit(x_train, y_train, verbose = 1)"
   ]
  },
  {
   "cell_type": "code",
   "execution_count": null,
   "id": "e4585c3d",
   "metadata": {},
   "outputs": [],
   "source": [
    "loss, acc = "
   ]
  }
 ],
 "metadata": {
  "kernelspec": {
   "display_name": "Python 3 (ipykernel)",
   "language": "python",
   "name": "python3"
  },
  "language_info": {
   "codemirror_mode": {
    "name": "ipython",
    "version": 3
   },
   "file_extension": ".py",
   "mimetype": "text/x-python",
   "name": "python",
   "nbconvert_exporter": "python",
   "pygments_lexer": "ipython3",
   "version": "3.9.7"
  }
 },
 "nbformat": 4,
 "nbformat_minor": 5
}
