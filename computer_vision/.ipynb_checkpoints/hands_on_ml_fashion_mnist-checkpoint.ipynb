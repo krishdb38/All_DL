{
 "cells": [
  {
   "cell_type": "code",
   "execution_count": 20,
   "id": "bd5f9459-9a45-48c2-a447-c3ebd16dfb35",
   "metadata": {},
   "outputs": [],
   "source": [
    "import numpy as np\n",
    "import tensorflow as tf\n",
    "# page 415 around hands on ml 3"
   ]
  },
  {
   "cell_type": "code",
   "execution_count": 2,
   "id": "24ca9b30-5927-46a0-bae9-1c0c8b7fed59",
   "metadata": {},
   "outputs": [],
   "source": [
    "fashion_mnist = tf.keras.datasets.fashion_mnist.load_data()\n",
    "(X_train_full, y_train_full), (X_test, y_test) = fashion_mnist"
   ]
  },
  {
   "cell_type": "code",
   "execution_count": 3,
   "id": "5fad2b6f-f983-4002-ba77-aa9ff8ad37fe",
   "metadata": {},
   "outputs": [],
   "source": [
    "X_train, y_train = X_train_full[:-5000], y_train_full[:-5000]\n",
    "X_valid, y_valid = X_train_full[-5000:], y_train_full[-5000:]"
   ]
  },
  {
   "cell_type": "code",
   "execution_count": 4,
   "id": "9e1a26dc-dc0c-4af5-86f0-e937c4cb9570",
   "metadata": {},
   "outputs": [
    {
     "name": "stdout",
     "output_type": "stream",
     "text": [
      "(55000, 28, 28)\n",
      "uint8\n"
     ]
    }
   ],
   "source": [
    "print(X_train.shape)\n",
    "print(X_train.dtype)"
   ]
  },
  {
   "cell_type": "code",
   "execution_count": 5,
   "id": "597cbdbb-54b8-4c1a-a791-c420df398488",
   "metadata": {},
   "outputs": [],
   "source": [
    "# Doing Normalizing by Dividing 255.0\n",
    "X_train, X_valid, X_test = X_train / 255., X_valid / 255., X_test / 255."
   ]
  },
  {
   "cell_type": "code",
   "execution_count": 6,
   "id": "1f72ba97-7413-4326-bb99-b1662eab5559",
   "metadata": {},
   "outputs": [],
   "source": [
    "class_names = [\"T-shirt/top\", \"Trouser\", \"Pullover\", \"Dress\", \"Coat\",\n",
    "\"Sandal\", \"Shirt\", \"Sneaker\", \"Bag\", \"Ankle boot\"]"
   ]
  },
  {
   "cell_type": "code",
   "execution_count": 7,
   "id": "8cd4c61c-5c9b-4a66-953f-019bb8d5ea16",
   "metadata": {},
   "outputs": [
    {
     "data": {
      "text/plain": [
       "'Ankle boot'"
      ]
     },
     "execution_count": 7,
     "metadata": {},
     "output_type": "execute_result"
    }
   ],
   "source": [
    "class_names[y_train[0]]"
   ]
  },
  {
   "cell_type": "markdown",
   "id": "45ad425b-ecf8-48e5-b25e-fd866944ae4d",
   "metadata": {},
   "source": [
    "### Creating the Model using the Sequential API"
   ]
  },
  {
   "cell_type": "code",
   "execution_count": 8,
   "id": "9346126f-d879-4cf8-8293-e1205d78f926",
   "metadata": {},
   "outputs": [
    {
     "name": "stderr",
     "output_type": "stream",
     "text": [
      "2023-01-01 08:03:54.462195: I tensorflow/compiler/xla/stream_executor/cuda/cuda_gpu_executor.cc:981] successful NUMA node read from SysFS had negative value (-1), but there must be at least one NUMA node, so returning NUMA node zero\n",
      "2023-01-01 08:03:54.541713: I tensorflow/compiler/xla/stream_executor/cuda/cuda_gpu_executor.cc:981] successful NUMA node read from SysFS had negative value (-1), but there must be at least one NUMA node, so returning NUMA node zero\n",
      "2023-01-01 08:03:54.541842: I tensorflow/compiler/xla/stream_executor/cuda/cuda_gpu_executor.cc:981] successful NUMA node read from SysFS had negative value (-1), but there must be at least one NUMA node, so returning NUMA node zero\n",
      "2023-01-01 08:03:54.542730: I tensorflow/core/platform/cpu_feature_guard.cc:193] This TensorFlow binary is optimized with oneAPI Deep Neural Network Library (oneDNN) to use the following CPU instructions in performance-critical operations:  AVX2 FMA\n",
      "To enable them in other operations, rebuild TensorFlow with the appropriate compiler flags.\n",
      "2023-01-01 08:03:54.543421: I tensorflow/compiler/xla/stream_executor/cuda/cuda_gpu_executor.cc:981] successful NUMA node read from SysFS had negative value (-1), but there must be at least one NUMA node, so returning NUMA node zero\n",
      "2023-01-01 08:03:54.543516: I tensorflow/compiler/xla/stream_executor/cuda/cuda_gpu_executor.cc:981] successful NUMA node read from SysFS had negative value (-1), but there must be at least one NUMA node, so returning NUMA node zero\n",
      "2023-01-01 08:03:54.543599: I tensorflow/compiler/xla/stream_executor/cuda/cuda_gpu_executor.cc:981] successful NUMA node read from SysFS had negative value (-1), but there must be at least one NUMA node, so returning NUMA node zero\n",
      "2023-01-01 08:03:55.106628: I tensorflow/compiler/xla/stream_executor/cuda/cuda_gpu_executor.cc:981] successful NUMA node read from SysFS had negative value (-1), but there must be at least one NUMA node, so returning NUMA node zero\n",
      "2023-01-01 08:03:55.107037: I tensorflow/compiler/xla/stream_executor/cuda/cuda_gpu_executor.cc:981] successful NUMA node read from SysFS had negative value (-1), but there must be at least one NUMA node, so returning NUMA node zero\n",
      "2023-01-01 08:03:55.107184: I tensorflow/compiler/xla/stream_executor/cuda/cuda_gpu_executor.cc:981] successful NUMA node read from SysFS had negative value (-1), but there must be at least one NUMA node, so returning NUMA node zero\n",
      "2023-01-01 08:03:55.107432: I tensorflow/core/common_runtime/gpu/gpu_device.cc:1613] Created device /job:localhost/replica:0/task:0/device:GPU:0 with 5638 MB memory:  -> device: 0, name: NVIDIA GeForce RTX 3070, pci bus id: 0000:01:00.0, compute capability: 8.6\n"
     ]
    }
   ],
   "source": [
    "tf.random.set_seed(42)\n",
    "\n",
    "model = tf.keras.Sequential([\n",
    "tf.keras.layers.Flatten(input_shape=[28, 28]),\n",
    "tf.keras.layers.Dense(300, activation=\"relu\"),\n",
    "tf.keras.layers.Dense(100, activation=\"relu\"),\n",
    "tf.keras.layers.Dense(10, activation=\"softmax\")\n",
    "])"
   ]
  },
  {
   "cell_type": "code",
   "execution_count": 9,
   "id": "07b6b374-214f-430e-b811-b81e71465ded",
   "metadata": {},
   "outputs": [
    {
     "name": "stdout",
     "output_type": "stream",
     "text": [
      "Model: \"sequential\"\n",
      "_________________________________________________________________\n",
      " Layer (type)                Output Shape              Param #   \n",
      "=================================================================\n",
      " flatten (Flatten)           (None, 784)               0         \n",
      "                                                                 \n",
      " dense (Dense)               (None, 300)               235500    \n",
      "                                                                 \n",
      " dense_1 (Dense)             (None, 100)               30100     \n",
      "                                                                 \n",
      " dense_2 (Dense)             (None, 10)                1010      \n",
      "                                                                 \n",
      "=================================================================\n",
      "Total params: 266,610\n",
      "Trainable params: 266,610\n",
      "Non-trainable params: 0\n",
      "_________________________________________________________________\n"
     ]
    }
   ],
   "source": [
    "model.summary()"
   ]
  },
  {
   "cell_type": "code",
   "execution_count": 10,
   "id": "8ea24ce4-f8ac-4937-b7d8-0e88a41baa66",
   "metadata": {},
   "outputs": [],
   "source": [
    "model.compile(loss=\"sparse_categorical_crossentropy\",\n",
    "optimizer=\"sgd\",\n",
    "metrics=[\"accuracy\"])"
   ]
  },
  {
   "cell_type": "markdown",
   "id": "0e92ef2c-e161-41b5-ab15-6047a982f528",
   "metadata": {},
   "source": [
    "### Training and Evaluating the Model"
   ]
  },
  {
   "cell_type": "code",
   "execution_count": 11,
   "id": "b4428a4f-9f50-42d1-b174-2778b37b1512",
   "metadata": {},
   "outputs": [
    {
     "name": "stdout",
     "output_type": "stream",
     "text": [
      "Epoch 1/50\n"
     ]
    },
    {
     "name": "stderr",
     "output_type": "stream",
     "text": [
      "2023-01-01 08:03:56.666140: I tensorflow/compiler/xla/stream_executor/cuda/cuda_blas.cc:630] TensorFloat-32 will be used for the matrix multiplication. This will only be logged once.\n",
      "2023-01-01 08:03:56.682702: I tensorflow/compiler/xla/service/service.cc:173] XLA service 0x7f6b7001aa00 initialized for platform CUDA (this does not guarantee that XLA will be used). Devices:\n",
      "2023-01-01 08:03:56.682716: I tensorflow/compiler/xla/service/service.cc:181]   StreamExecutor device (0): NVIDIA GeForce RTX 3070, Compute Capability 8.6\n",
      "2023-01-01 08:03:56.799735: I tensorflow/compiler/jit/xla_compilation_cache.cc:477] Compiled cluster using XLA!  This line is logged at most once for the lifetime of the process.\n"
     ]
    },
    {
     "name": "stdout",
     "output_type": "stream",
     "text": [
      "1719/1719 [==============================] - 4s 1ms/step - loss: 0.7179 - accuracy: 0.7640 - val_loss: 0.5108 - val_accuracy: 0.8266\n",
      "Epoch 2/50\n",
      "1719/1719 [==============================] - 2s 1ms/step - loss: 0.4903 - accuracy: 0.8294 - val_loss: 0.4609 - val_accuracy: 0.8350\n",
      "Epoch 3/50\n",
      "1719/1719 [==============================] - 2s 1ms/step - loss: 0.4442 - accuracy: 0.8434 - val_loss: 0.4309 - val_accuracy: 0.8510\n",
      "Epoch 4/50\n",
      "1719/1719 [==============================] - 2s 1ms/step - loss: 0.4195 - accuracy: 0.8534 - val_loss: 0.4013 - val_accuracy: 0.8580\n",
      "Epoch 5/50\n",
      "1719/1719 [==============================] - 2s 1ms/step - loss: 0.3982 - accuracy: 0.8604 - val_loss: 0.3991 - val_accuracy: 0.8604\n",
      "Epoch 6/50\n",
      "1719/1719 [==============================] - 2s 1ms/step - loss: 0.3816 - accuracy: 0.8655 - val_loss: 0.4008 - val_accuracy: 0.8604\n",
      "Epoch 7/50\n",
      "1719/1719 [==============================] - 2s 1ms/step - loss: 0.3689 - accuracy: 0.8691 - val_loss: 0.3797 - val_accuracy: 0.8654\n",
      "Epoch 8/50\n",
      "1719/1719 [==============================] - 2s 1ms/step - loss: 0.3571 - accuracy: 0.8737 - val_loss: 0.3826 - val_accuracy: 0.8608\n",
      "Epoch 9/50\n",
      "1719/1719 [==============================] - 2s 1ms/step - loss: 0.3462 - accuracy: 0.8769 - val_loss: 0.3541 - val_accuracy: 0.8768\n",
      "Epoch 10/50\n",
      "1719/1719 [==============================] - 2s 1ms/step - loss: 0.3358 - accuracy: 0.8799 - val_loss: 0.3583 - val_accuracy: 0.8720\n",
      "Epoch 11/50\n",
      "1719/1719 [==============================] - 2s 1ms/step - loss: 0.3269 - accuracy: 0.8839 - val_loss: 0.3812 - val_accuracy: 0.8648\n",
      "Epoch 12/50\n",
      "1719/1719 [==============================] - 2s 1ms/step - loss: 0.3189 - accuracy: 0.8861 - val_loss: 0.3507 - val_accuracy: 0.8754\n",
      "Epoch 13/50\n",
      "1719/1719 [==============================] - 2s 1ms/step - loss: 0.3114 - accuracy: 0.8897 - val_loss: 0.3331 - val_accuracy: 0.8800\n",
      "Epoch 14/50\n",
      "1719/1719 [==============================] - 2s 1ms/step - loss: 0.3043 - accuracy: 0.8911 - val_loss: 0.3416 - val_accuracy: 0.8766\n",
      "Epoch 15/50\n",
      "1719/1719 [==============================] - 2s 1ms/step - loss: 0.2980 - accuracy: 0.8938 - val_loss: 0.3411 - val_accuracy: 0.8796\n",
      "Epoch 16/50\n",
      "1719/1719 [==============================] - 2s 1ms/step - loss: 0.2907 - accuracy: 0.8957 - val_loss: 0.3343 - val_accuracy: 0.8758\n",
      "Epoch 17/50\n",
      "1719/1719 [==============================] - 2s 1ms/step - loss: 0.2856 - accuracy: 0.8962 - val_loss: 0.3440 - val_accuracy: 0.8736\n",
      "Epoch 18/50\n",
      "1719/1719 [==============================] - 2s 1ms/step - loss: 0.2797 - accuracy: 0.8993 - val_loss: 0.3273 - val_accuracy: 0.8844\n",
      "Epoch 19/50\n",
      "1719/1719 [==============================] - 2s 1ms/step - loss: 0.2743 - accuracy: 0.9007 - val_loss: 0.3583 - val_accuracy: 0.8652\n",
      "Epoch 20/50\n",
      "1719/1719 [==============================] - 2s 1ms/step - loss: 0.2693 - accuracy: 0.9024 - val_loss: 0.3255 - val_accuracy: 0.8806\n",
      "Epoch 21/50\n",
      "1719/1719 [==============================] - 2s 1ms/step - loss: 0.2644 - accuracy: 0.9043 - val_loss: 0.3198 - val_accuracy: 0.8852\n",
      "Epoch 22/50\n",
      "1719/1719 [==============================] - 2s 1ms/step - loss: 0.2591 - accuracy: 0.9054 - val_loss: 0.3186 - val_accuracy: 0.8806\n",
      "Epoch 23/50\n",
      "1719/1719 [==============================] - 2s 1ms/step - loss: 0.2544 - accuracy: 0.9093 - val_loss: 0.3485 - val_accuracy: 0.8718\n",
      "Epoch 24/50\n",
      "1719/1719 [==============================] - 2s 1ms/step - loss: 0.2498 - accuracy: 0.9102 - val_loss: 0.3254 - val_accuracy: 0.8842\n",
      "Epoch 25/50\n",
      "1719/1719 [==============================] - 2s 1ms/step - loss: 0.2453 - accuracy: 0.9111 - val_loss: 0.3218 - val_accuracy: 0.8820\n",
      "Epoch 26/50\n",
      "1719/1719 [==============================] - 2s 1ms/step - loss: 0.2411 - accuracy: 0.9129 - val_loss: 0.3169 - val_accuracy: 0.8846\n",
      "Epoch 27/50\n",
      "1719/1719 [==============================] - 2s 1ms/step - loss: 0.2367 - accuracy: 0.9144 - val_loss: 0.3264 - val_accuracy: 0.8828\n",
      "Epoch 28/50\n",
      "1719/1719 [==============================] - 2s 1ms/step - loss: 0.2336 - accuracy: 0.9162 - val_loss: 0.3149 - val_accuracy: 0.8854\n",
      "Epoch 29/50\n",
      "1719/1719 [==============================] - 2s 1ms/step - loss: 0.2295 - accuracy: 0.9171 - val_loss: 0.3176 - val_accuracy: 0.8850\n",
      "Epoch 30/50\n",
      "1719/1719 [==============================] - 2s 1ms/step - loss: 0.2256 - accuracy: 0.9191 - val_loss: 0.3109 - val_accuracy: 0.8864\n",
      "Epoch 31/50\n",
      "1719/1719 [==============================] - 2s 1ms/step - loss: 0.2207 - accuracy: 0.9211 - val_loss: 0.3232 - val_accuracy: 0.8860\n",
      "Epoch 32/50\n",
      "1719/1719 [==============================] - 2s 1ms/step - loss: 0.2186 - accuracy: 0.9218 - val_loss: 0.3129 - val_accuracy: 0.8860\n",
      "Epoch 33/50\n",
      "1719/1719 [==============================] - 2s 1ms/step - loss: 0.2144 - accuracy: 0.9239 - val_loss: 0.3385 - val_accuracy: 0.8782\n",
      "Epoch 34/50\n",
      "1719/1719 [==============================] - 2s 1ms/step - loss: 0.2111 - accuracy: 0.9252 - val_loss: 0.3161 - val_accuracy: 0.8854\n",
      "Epoch 35/50\n",
      "1719/1719 [==============================] - 2s 1ms/step - loss: 0.2070 - accuracy: 0.9260 - val_loss: 0.3095 - val_accuracy: 0.8890\n",
      "Epoch 36/50\n",
      "1719/1719 [==============================] - 2s 1ms/step - loss: 0.2041 - accuracy: 0.9270 - val_loss: 0.3090 - val_accuracy: 0.8892\n",
      "Epoch 37/50\n",
      "1719/1719 [==============================] - 2s 1ms/step - loss: 0.2014 - accuracy: 0.9273 - val_loss: 0.3118 - val_accuracy: 0.8888\n",
      "Epoch 38/50\n",
      "1719/1719 [==============================] - 2s 1ms/step - loss: 0.1978 - accuracy: 0.9288 - val_loss: 0.3190 - val_accuracy: 0.8860\n",
      "Epoch 39/50\n",
      "1719/1719 [==============================] - 2s 1ms/step - loss: 0.1947 - accuracy: 0.9302 - val_loss: 0.3112 - val_accuracy: 0.8894\n",
      "Epoch 40/50\n",
      "1719/1719 [==============================] - 2s 1ms/step - loss: 0.1906 - accuracy: 0.9325 - val_loss: 0.3179 - val_accuracy: 0.8848\n",
      "Epoch 41/50\n",
      "1719/1719 [==============================] - 2s 1ms/step - loss: 0.1887 - accuracy: 0.9325 - val_loss: 0.3153 - val_accuracy: 0.8882\n",
      "Epoch 42/50\n",
      "1719/1719 [==============================] - 2s 1ms/step - loss: 0.1851 - accuracy: 0.9341 - val_loss: 0.3216 - val_accuracy: 0.8846\n",
      "Epoch 43/50\n",
      "1719/1719 [==============================] - 2s 1ms/step - loss: 0.1823 - accuracy: 0.9347 - val_loss: 0.3519 - val_accuracy: 0.8812\n",
      "Epoch 44/50\n",
      "1719/1719 [==============================] - 2s 1ms/step - loss: 0.1795 - accuracy: 0.9356 - val_loss: 0.3198 - val_accuracy: 0.8894\n",
      "Epoch 45/50\n",
      "1719/1719 [==============================] - 2s 1ms/step - loss: 0.1774 - accuracy: 0.9368 - val_loss: 0.3180 - val_accuracy: 0.8914\n",
      "Epoch 46/50\n",
      "1719/1719 [==============================] - 2s 1ms/step - loss: 0.1744 - accuracy: 0.9376 - val_loss: 0.3200 - val_accuracy: 0.8872\n",
      "Epoch 47/50\n",
      "1719/1719 [==============================] - 2s 1ms/step - loss: 0.1706 - accuracy: 0.9385 - val_loss: 0.3245 - val_accuracy: 0.8876\n",
      "Epoch 48/50\n",
      "1719/1719 [==============================] - 2s 1ms/step - loss: 0.1687 - accuracy: 0.9397 - val_loss: 0.3380 - val_accuracy: 0.8830\n",
      "Epoch 49/50\n",
      "1719/1719 [==============================] - 2s 1ms/step - loss: 0.1656 - accuracy: 0.9415 - val_loss: 0.3267 - val_accuracy: 0.8902\n",
      "Epoch 50/50\n",
      "1719/1719 [==============================] - 2s 1ms/step - loss: 0.1631 - accuracy: 0.9420 - val_loss: 0.3250 - val_accuracy: 0.8896\n"
     ]
    }
   ],
   "source": [
    "history = model.fit(X_train, y_train, epochs=50,validation_data=(X_valid, y_valid))"
   ]
  },
  {
   "cell_type": "code",
   "execution_count": 12,
   "id": "5c5aa753-df79-44d4-af5c-f74f0299ae87",
   "metadata": {},
   "outputs": [
    {
     "data": {
      "image/png": "[encoded data removed]",
      "text/plain": [
       "<Figure size 800x500 with 1 Axes>"
      ]
     },
     "metadata": {},
     "output_type": "display_data"
    }
   ],
   "source": [
    "# page 418 \n",
    "import matplotlib.pyplot as plt\n",
    "import pandas as pd\n",
    "pd.DataFrame(history.history).plot(\n",
    "figsize=(8, 5), xlim=[0, 29], ylim=[0, 1], grid=True, xlabel=\"Epoch\",\n",
    "style=[\"r--\", \"r--.\", \"b-\", \"b-*\"])\n",
    "plt.show()"
   ]
  },
  {
   "cell_type": "code",
   "execution_count": 17,
   "id": "ab50abd7-d4bb-4901-ad4d-bb6ec98acaf8",
   "metadata": {},
   "outputs": [
    {
     "data": {
      "text/html": [
       "<div>\n",
       "<style scoped>\n",
       "    .dataframe tbody tr th:only-of-type {\n",
       "        vertical-align: middle;\n",
       "    }\n",
       "\n",
       "    .dataframe tbody tr th {\n",
       "        vertical-align: top;\n",
       "    }\n",
       "\n",
       "    .dataframe thead th {\n",
       "        text-align: right;\n",
       "    }\n",
       "</style>\n",
       "<table border=\"1\" class=\"dataframe\">\n",
       "  <thead>\n",
       "    <tr style=\"text-align: right;\">\n",
       "      <th></th>\n",
       "      <th>loss</th>\n",
       "      <th>accuracy</th>\n",
       "      <th>val_loss</th>\n",
       "      <th>val_accuracy</th>\n",
       "    </tr>\n",
       "  </thead>\n",
       "  <tbody>\n",
       "    <tr>\n",
       "      <th>0</th>\n",
       "      <td>0.717876</td>\n",
       "      <td>0.764036</td>\n",
       "      <td>0.510768</td>\n",
       "      <td>0.8266</td>\n",
       "    </tr>\n",
       "    <tr>\n",
       "      <th>1</th>\n",
       "      <td>0.490304</td>\n",
       "      <td>0.829382</td>\n",
       "      <td>0.460935</td>\n",
       "      <td>0.8350</td>\n",
       "    </tr>\n",
       "    <tr>\n",
       "      <th>2</th>\n",
       "      <td>0.444207</td>\n",
       "      <td>0.843418</td>\n",
       "      <td>0.430924</td>\n",
       "      <td>0.8510</td>\n",
       "    </tr>\n",
       "    <tr>\n",
       "      <th>3</th>\n",
       "      <td>0.419451</td>\n",
       "      <td>0.853364</td>\n",
       "      <td>0.401348</td>\n",
       "      <td>0.8580</td>\n",
       "    </tr>\n",
       "    <tr>\n",
       "      <th>4</th>\n",
       "      <td>0.398215</td>\n",
       "      <td>0.860364</td>\n",
       "      <td>0.399075</td>\n",
       "      <td>0.8604</td>\n",
       "    </tr>\n",
       "  </tbody>\n",
       "</table>\n",
       "</div>"
      ],
      "text/plain": [
       "       loss  accuracy  val_loss  val_accuracy\n",
       "0  0.717876  0.764036  0.510768        0.8266\n",
       "1  0.490304  0.829382  0.460935        0.8350\n",
       "2  0.444207  0.843418  0.430924        0.8510\n",
       "3  0.419451  0.853364  0.401348        0.8580\n",
       "4  0.398215  0.860364  0.399075        0.8604"
      ]
     },
     "execution_count": 17,
     "metadata": {},
     "output_type": "execute_result"
    }
   ],
   "source": [
    "pd.DataFrame(history.history).head()"
   ]
  },
  {
   "cell_type": "code",
   "execution_count": 22,
   "id": "147b9f53-4b21-4fd4-b48d-853050b3a305",
   "metadata": {},
   "outputs": [
    {
     "data": {
      "image/png": "[encoded data removed]",
      "text/plain": [
       "<Figure size 800x500 with 1 Axes>"
      ]
     },
     "metadata": {},
     "output_type": "display_data"
    }
   ],
   "source": [
    "# Extra COde \n",
    "# Shows how to shift the training curve by 1/2 epoch\n",
    "\n",
    "plt.figure(figsize=(8,5))\n",
    "for key, style in zip(history.history, ['r--', 'r--.', \"b-\", \"b-*\"]):\n",
    "    epochs = np.array(history.epoch) + (0 if key.startswith('val_') else -0.5)\n",
    "    plt.plot(epochs, history.history[key], style, label = key)\n",
    "    \n",
    "plt.xlabel(\"Epochs\")\n",
    "plt.axis([-0.5,29, 0. , 1])\n",
    "plt.legend(loc = \"lower left\")\n",
    "plt.grid()\n",
    "plt.show()"
   ]
  },
  {
   "cell_type": "code",
   "execution_count": 23,
   "id": "6a7da02b-f379-4813-b937-12d024a75aff",
   "metadata": {},
   "outputs": [
    {
     "name": "stdout",
     "output_type": "stream",
     "text": [
      "313/313 [==============================] - 0s 823us/step - loss: 0.3417 - accuracy: 0.8857\n"
     ]
    },
    {
     "data": {
      "text/plain": [
       "[0.34169864654541016, 0.885699987411499]"
      ]
     },
     "execution_count": 23,
     "metadata": {},
     "output_type": "execute_result"
    }
   ],
   "source": [
    "model.evaluate(X_test, y_test)"
   ]
  },
  {
   "cell_type": "markdown",
   "id": "b82a771c-3d0d-4e8e-93b2-306738c43ff1",
   "metadata": {},
   "source": [
    "### Using the Model to make Predictions"
   ]
  },
  {
   "cell_type": "code",
   "execution_count": 24,
   "id": "2ac48b3e-d938-4924-a285-1ebc61d879d4",
   "metadata": {},
   "outputs": [
    {
     "name": "stdout",
     "output_type": "stream",
     "text": [
      "1/1 [==============================] - 0s 56ms/step\n"
     ]
    },
    {
     "data": {
      "text/plain": [
       "array([[0.  , 0.  , 0.  , 0.  , 0.  , 0.  , 0.  , 0.  , 0.  , 1.  ],\n",
       "       [0.  , 0.  , 0.96, 0.  , 0.04, 0.  , 0.  , 0.  , 0.  , 0.  ],\n",
       "       [0.  , 1.  , 0.  , 0.  , 0.  , 0.  , 0.  , 0.  , 0.  , 0.  ]],\n",
       "      dtype=float32)"
      ]
     },
     "execution_count": 24,
     "metadata": {},
     "output_type": "execute_result"
    }
   ],
   "source": [
    "X_new = X_test[:3]\n",
    "y_proba = model.predict(X_new)\n",
    "y_proba.round(2)"
   ]
  },
  {
   "cell_type": "code",
   "execution_count": 25,
   "id": "dbd61509-27f8-446a-a3d2-dabd3310ccb1",
   "metadata": {},
   "outputs": [
    {
     "data": {
      "text/plain": [
       "array([[5.3130850e-07, 5.3161076e-10, 1.2580001e-06, 1.7759019e-07,\n",
       "        2.6797960e-07, 3.0394393e-04, 6.0971951e-07, 9.6288830e-04,\n",
       "        3.0319898e-06, 9.9872738e-01],\n",
       "       [2.1081707e-04, 3.4343614e-08, 9.5923930e-01, 1.2462006e-09,\n",
       "        4.0297069e-02, 4.6994797e-13, 2.5283193e-04, 1.8479071e-11,\n",
       "        2.8580621e-08, 2.6682948e-11],\n",
       "       [4.8237928e-07, 9.9999952e-01, 9.6324199e-11, 1.6105451e-09,\n",
       "        1.0344224e-08, 2.9301296e-14, 4.1067486e-11, 1.8208568e-12,\n",
       "        5.5089329e-11, 1.9360609e-15]], dtype=float32)"
      ]
     },
     "execution_count": 25,
     "metadata": {},
     "output_type": "execute_result"
    }
   ],
   "source": [
    "y_proba"
   ]
  },
  {
   "cell_type": "code",
   "execution_count": 26,
   "id": "eff40520-b1a4-4f3e-9749-dd80b9cd94de",
   "metadata": {},
   "outputs": [
    {
     "data": {
      "text/plain": [
       "array([9, 2, 1])"
      ]
     },
     "execution_count": 26,
     "metadata": {},
     "output_type": "execute_result"
    }
   ],
   "source": [
    "y_pred = y_proba.argmax(axis = -1)\n",
    "y_pred"
   ]
  },
  {
   "cell_type": "code",
   "execution_count": 27,
   "id": "2e7e340c-b9b8-4af1-ae1c-a5ec3240d052",
   "metadata": {},
   "outputs": [
    {
     "data": {
      "text/plain": [
       "array(['Ankle boot', 'Pullover', 'Trouser'], dtype='<U11')"
      ]
     },
     "execution_count": 27,
     "metadata": {},
     "output_type": "execute_result"
    }
   ],
   "source": [
    "np.array(class_names)[y_pred]"
   ]
  },
  {
   "cell_type": "code",
   "execution_count": 28,
   "id": "722211d0-4057-44b5-976a-44e89f3e56ae",
   "metadata": {},
   "outputs": [
    {
     "data": {
      "text/plain": [
       "array([9, 2, 1], dtype=uint8)"
      ]
     },
     "execution_count": 28,
     "metadata": {},
     "output_type": "execute_result"
    }
   ],
   "source": [
    "y_new = y_test[:3]\n",
    "y_new"
   ]
  },
  {
   "cell_type": "code",
   "execution_count": 30,
   "id": "f1e9d94a-7476-494e-b08e-f76acb2f35f6",
   "metadata": {},
   "outputs": [
    {
     "data": {
      "image/png": "[encoded data removed]",
      "text/plain": [
       "<Figure size 720x240 with 3 Axes>"
      ]
     },
     "metadata": {},
     "output_type": "display_data"
    }
   ],
   "source": [
    "# Extra Code this cell generates and saves Figure 10-12\n",
    "plt.figure(figsize=(7.2, 2.4))\n",
    "for index, image in enumerate(X_new):\n",
    "    plt.subplot(1,3, index +1)\n",
    "    plt.imshow(image)\n",
    "    plt.axis('off')\n",
    "    plt.title(class_names[y_test[index]])"
   ]
  },
  {
   "cell_type": "markdown",
   "id": "78c1fa17-7125-4294-b9e7-9d132525b8ba",
   "metadata": {},
   "source": [
    "## Building a Regression MLP Using the Sequential API"
   ]
  },
  {
   "cell_type": "code",
   "execution_count": null,
   "id": "de0dd36c-5e32-40ed-a7f1-f1ccc782883e",
   "metadata": {},
   "outputs": [],
   "source": []
  },
  {
   "cell_type": "code",
   "execution_count": null,
   "id": "0996a783-f082-445b-bec1-889d2d9d268d",
   "metadata": {},
   "outputs": [],
   "source": []
  }
 ],
 "metadata": {
  "kernelspec": {
   "display_name": "Python 3 (ipykernel)",
   "language": "python",
   "name": "python3"
  },
  "language_info": {
   "codemirror_mode": {
    "name": "ipython",
    "version": 3
   },
   "file_extension": ".py",
   "mimetype": "text/x-python",
   "name": "python",
   "nbconvert_exporter": "python",
   "pygments_lexer": "ipython3",
   "version": "3.9.13"
  }
 },
 "nbformat": 4,
 "nbformat_minor": 5
}
