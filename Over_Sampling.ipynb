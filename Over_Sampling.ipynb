{
 "cells": [
  {
   "cell_type": "code",
   "execution_count": 1,
   "id": "2eb6f9e7",
   "metadata": {},
   "outputs": [],
   "source": [
    "# https://imbalanced-learn.org/stable/over_sampling.html"
   ]
  },
  {
   "cell_type": "code",
   "execution_count": 2,
   "id": "e9118335",
   "metadata": {},
   "outputs": [],
   "source": [
    "# Naive Random Over Sampling\n",
    "from sklearn.datasets import make_classification\n",
    "\n",
    "x,y = make_classification(n_samples=5000, n_features=2, n_informative=2, n_redundant=0,\n",
    "                         n_repeated=0, n_classes=3,n_clusters_per_class=1,\n",
    "                         weights=[0.01,0.05,0.94],\n",
    "                         class_sep=0.8, random_state=0)\n",
    "\n"
   ]
  },
  {
   "cell_type": "code",
   "execution_count": 3,
   "id": "66144593",
   "metadata": {},
   "outputs": [],
   "source": [
    "from imblearn.over_sampling import RandomOverSampler\n",
    "ros = RandomOverSampler(random_state=0)\n",
    "\n",
    "x_resampled, y_resampled = ros.fit_resample(x,y)\n"
   ]
  },
  {
   "cell_type": "code",
   "execution_count": 8,
   "id": "344318a4",
   "metadata": {},
   "outputs": [
    {
     "name": "stdout",
     "output_type": "stream",
     "text": [
      "[(0, 4674), (1, 4674), (2, 4674)]\n"
     ]
    }
   ],
   "source": [
    "from collections import Counter\n",
    "print(sorted(Counter(y_resampled).items()))"
   ]
  },
  {
   "cell_type": "code",
   "execution_count": 10,
   "id": "52a03fbb",
   "metadata": {},
   "outputs": [
    {
     "data": {
      "text/plain": [
       "LinearSVC()"
      ]
     },
     "execution_count": 10,
     "metadata": {},
     "output_type": "execute_result"
    }
   ],
   "source": [
    "from sklearn.svm  import LinearSVC\n",
    "clf = LinearSVC()\n",
    "clf.fit(x_resampled, y_resampled)"
   ]
  },
  {
   "cell_type": "code",
   "execution_count": 11,
   "id": "de1bb982",
   "metadata": {},
   "outputs": [],
   "source": [
    "import numpy as np\n",
    "x_hetero = np.array([[\"xxx\",1,1.0], [\"yyy\", 2,2.0], [\"zzz\",3,3.0]], dtype=object)\n",
    "y_hetero = np.array([0,0,1])"
   ]
  },
  {
   "cell_type": "code",
   "execution_count": 13,
   "id": "2f875d7e",
   "metadata": {},
   "outputs": [
    {
     "data": {
      "text/plain": [
       "array([['xxx', 1, 1.0],\n",
       "       ['yyy', 2, 2.0],\n",
       "       ['zzz', 3, 3.0]], dtype=object)"
      ]
     },
     "execution_count": 13,
     "metadata": {},
     "output_type": "execute_result"
    }
   ],
   "source": [
    "x_hetero"
   ]
  },
  {
   "cell_type": "code",
   "execution_count": 14,
   "id": "8ac8f6d7",
   "metadata": {},
   "outputs": [
    {
     "data": {
      "text/plain": [
       "array([0, 0, 1])"
      ]
     },
     "execution_count": 14,
     "metadata": {},
     "output_type": "execute_result"
    }
   ],
   "source": [
    "y_hetero"
   ]
  },
  {
   "cell_type": "code",
   "execution_count": 15,
   "id": "73aa6d4a",
   "metadata": {},
   "outputs": [],
   "source": [
    "x_resamplede, y_resampled = ros.fit_resample(x_hetero, y_hetero)"
   ]
  },
  {
   "cell_type": "code",
   "execution_count": 18,
   "id": "2e43956e",
   "metadata": {},
   "outputs": [
    {
     "data": {
      "text/plain": [
       "(array([['xxx', 1, 1.0],\n",
       "        ['yyy', 2, 2.0],\n",
       "        ['zzz', 3, 3.0],\n",
       "        ['zzz', 3, 3.0]], dtype=object),\n",
       " array([0, 0, 1, 1]))"
      ]
     },
     "execution_count": 18,
     "metadata": {},
     "output_type": "execute_result"
    }
   ],
   "source": [
    "x_resamplede, y_resampled"
   ]
  },
  {
   "cell_type": "code",
   "execution_count": null,
   "id": "596c2cf6",
   "metadata": {},
   "outputs": [],
   "source": []
  }
 ],
 "metadata": {
  "hide_input": false,
  "kernelspec": {
   "display_name": "Python 3 (ipykernel)",
   "language": "python",
   "name": "python3"
  },
  "language_info": {
   "codemirror_mode": {
    "name": "ipython",
    "version": 3
   },
   "file_extension": ".py",
   "mimetype": "text/x-python",
   "name": "python",
   "nbconvert_exporter": "python",
   "pygments_lexer": "ipython3",
   "version": "3.9.7"
  },
  "varInspector": {
   "cols": {
    "lenName": 16,
    "lenType": 16,
    "lenVar": 40
   },
   "kernels_config": {
    "python": {
     "delete_cmd_postfix": "",
     "delete_cmd_prefix": "del ",
     "library": "var_list.py",
     "varRefreshCmd": "print(var_dic_list())"
    },
    "r": {
     "delete_cmd_postfix": ") ",
     "delete_cmd_prefix": "rm(",
     "library": "var_list.r",
     "varRefreshCmd": "cat(var_dic_list()) "
    }
   },
   "types_to_exclude": [
    "module",
    "function",
    "builtin_function_or_method",
    "instance",
    "_Feature"
   ],
   "window_display": false
  }
 },
 "nbformat": 4,
 "nbformat_minor": 5
}
