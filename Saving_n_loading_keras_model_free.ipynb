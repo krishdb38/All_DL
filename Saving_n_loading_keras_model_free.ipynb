{
 "cells": [
  {
   "cell_type": "code",
   "execution_count": 1,
   "id": "664ab7cc",
   "metadata": {},
   "outputs": [],
   "source": [
    "# https://www.tensorflow.org/guide/keras/save_and_serialize#registering_the_custom_object"
   ]
  },
  {
   "cell_type": "code",
   "execution_count": 2,
   "id": "ca0b7396",
   "metadata": {},
   "outputs": [],
   "source": [
    "import numpy as np\n",
    "import tensorflow as tf\n",
    "from tensorflow import keras"
   ]
  },
  {
   "cell_type": "markdown",
   "id": "2c6b4c5e",
   "metadata": {},
   "source": [
    "### API"
   ]
  },
  {
   "cell_type": "code",
   "execution_count": 3,
   "id": "c17d37af",
   "metadata": {},
   "outputs": [],
   "source": [
    "# model.save() or tf.keras.models.save_modeL()\n",
    "# tf.keras.models.load_model()"
   ]
  },
  {
   "cell_type": "code",
   "execution_count": 4,
   "id": "f84a7d4a",
   "metadata": {},
   "outputs": [],
   "source": [
    "# There are two formats you can use to save an entire model to disk\n",
    "# the tensorflow SavedModel format and keras H5 format\n"
   ]
  },
  {
   "cell_type": "code",
   "execution_count": 7,
   "id": "ade3601f",
   "metadata": {},
   "outputs": [
    {
     "data": {
      "text/plain": [
       "['__annotations__',\n",
       " '__call__',\n",
       " '__class__',\n",
       " '__closure__',\n",
       " '__code__',\n",
       " '__defaults__',\n",
       " '__delattr__',\n",
       " '__dict__',\n",
       " '__dir__',\n",
       " '__doc__',\n",
       " '__eq__',\n",
       " '__format__',\n",
       " '__ge__',\n",
       " '__get__',\n",
       " '__getattribute__',\n",
       " '__globals__',\n",
       " '__gt__',\n",
       " '__hash__',\n",
       " '__init__',\n",
       " '__init_subclass__',\n",
       " '__kwdefaults__',\n",
       " '__le__',\n",
       " '__lt__',\n",
       " '__module__',\n",
       " '__name__',\n",
       " '__ne__',\n",
       " '__new__',\n",
       " '__qualname__',\n",
       " '__reduce__',\n",
       " '__reduce_ex__',\n",
       " '__repr__',\n",
       " '__setattr__',\n",
       " '__sizeof__',\n",
       " '__str__',\n",
       " '__subclasshook__',\n",
       " '_keras_api_names',\n",
       " '_keras_api_names_v1']"
      ]
     },
     "execution_count": 7,
     "metadata": {},
     "output_type": "execute_result"
    }
   ],
   "source": [
    "dir(keras.models.save_model)"
   ]
  },
  {
   "cell_type": "code",
   "execution_count": 9,
   "id": "ce153834",
   "metadata": {},
   "outputs": [],
   "source": [
    "# keras.models.save_model?\n",
    "# you can read manual here by not commenting upper comment"
   ]
  },
  {
   "cell_type": "markdown",
   "id": "a55fc354",
   "metadata": {},
   "source": [
    "## How SavedModel handles custom objects"
   ]
  },
  {
   "cell_type": "code",
   "execution_count": null,
   "id": "e6314c8d",
   "metadata": {},
   "outputs": [],
   "source": [
    "class CustomModel(keras.Model):\n",
    "    def __init__(self, hidden_units):\n",
    "        super(CustomModel, self).__init__()\n",
    "        self.hidden_units = hidden_units\n",
    "        self.dense_layers = [keras.layers.Dense(u) for u in hidden_units]\n",
    "        \n",
    "    def call(self, inputs):\n",
    "        x = inputs\n",
    "        for layer in self.dense_layers:\n",
    "            x = layer(x)\n",
    "        return x\n",
    "    def get_config(self):\n",
    "        return {\"hidden_units\": self.hidden_units }\n",
    "    \n",
    "    @classmethod\n",
    "    def from_config(cls, config):\n",
    "        return cls(**config)\n",
    "    \n",
    "model = CustomModel([16,16,10])\n",
    "\n",
    "# Build the model by calling it\n",
    "input_arr = tf.random.uniform(1,5)\n"
   ]
  }
 ],
 "metadata": {
  "kernelspec": {
   "display_name": "Python 3 (ipykernel)",
   "language": "python",
   "name": "python3"
  },
  "language_info": {
   "codemirror_mode": {
    "name": "ipython",
    "version": 3
   },
   "file_extension": ".py",
   "mimetype": "text/x-python",
   "name": "python",
   "nbconvert_exporter": "python",
   "pygments_lexer": "ipython3",
   "version": "3.9.7"
  }
 },
 "nbformat": 4,
 "nbformat_minor": 5
}
